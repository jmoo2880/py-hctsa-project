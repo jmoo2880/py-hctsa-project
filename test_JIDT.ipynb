{
 "cells": [
  {
   "cell_type": "code",
   "execution_count": 1,
   "metadata": {},
   "outputs": [],
   "source": [
    "import numpy as np\n",
    "import warnings\n",
    "import jpype as jp"
   ]
  },
  {
   "cell_type": "markdown",
   "metadata": {},
   "source": [
    "Goal: Try and initialise an MI calculator and use it"
   ]
  },
  {
   "cell_type": "code",
   "execution_count": 2,
   "metadata": {},
   "outputs": [],
   "source": [
    "jarloc = \"/Users/joshua/Documents/jidt/infodynamics.jar\"\n",
    "jp.startJVM(jp.getDefaultJVMPath(), \"-ea\", \"-Djava.class.path=\" + jarloc)"
   ]
  },
  {
   "cell_type": "markdown",
   "metadata": {},
   "source": [
    "Gaussian estimator"
   ]
  },
  {
   "cell_type": "code",
   "execution_count": 56,
   "metadata": {},
   "outputs": [],
   "source": [
    "miCalcClass = jp.JPackage(\"infodynamics.measures.continuous.gaussian\").MutualInfoCalculatorMultiVariateGaussian"
   ]
  },
  {
   "cell_type": "code",
   "execution_count": 57,
   "metadata": {},
   "outputs": [],
   "source": [
    "miCalc = miCalcClass()"
   ]
  },
  {
   "cell_type": "code",
   "execution_count": 58,
   "metadata": {},
   "outputs": [],
   "source": [
    "miCalc.initialise(1,1)"
   ]
  },
  {
   "cell_type": "code",
   "execution_count": 59,
   "metadata": {},
   "outputs": [],
   "source": [
    "miCalc.setProperty('NOISE_LEVEL_TO_ADD', '0')"
   ]
  },
  {
   "cell_type": "code",
   "execution_count": 6,
   "metadata": {},
   "outputs": [],
   "source": [
    "y1 = np.random.randn(20)\n",
    "y2 = np.random.randn(20)"
   ]
  },
  {
   "cell_type": "code",
   "execution_count": 7,
   "metadata": {},
   "outputs": [
    {
     "data": {
      "text/plain": [
       "<java array 'double[]'>"
      ]
     },
     "execution_count": 7,
     "metadata": {},
     "output_type": "execute_result"
    }
   ],
   "source": [
    "jp.JArray(jp.JDouble)(y1)"
   ]
  },
  {
   "cell_type": "code",
   "execution_count": 8,
   "metadata": {},
   "outputs": [],
   "source": [
    "miCalc.setObservations(jp.JArray(jp.JDouble)(y1), jp.JArray(jp.JDouble)(y2))"
   ]
  },
  {
   "cell_type": "code",
   "execution_count": 9,
   "metadata": {},
   "outputs": [
    {
     "data": {
      "text/plain": [
       "0.0024375638947790566"
      ]
     },
     "execution_count": 9,
     "metadata": {},
     "output_type": "execute_result"
    }
   ],
   "source": [
    "miCalc.computeAverageLocalOfObservations()"
   ]
  },
  {
   "cell_type": "code",
   "execution_count": 3,
   "metadata": {},
   "outputs": [],
   "source": [
    "from Operations.IN_AutoMutualInfo import IN_AutoMutualInfo\n",
    "from scipy import stats"
   ]
  },
  {
   "cell_type": "code",
   "execution_count": 25,
   "metadata": {},
   "outputs": [],
   "source": [
    "ts1 = np.loadtxt(\"ts1.txt\")\n",
    "ts2 = np.loadtxt(\"ts2.txt\")\n",
    "ts3 = np.loadtxt(\"ts3.txt\")"
   ]
  },
  {
   "cell_type": "code",
   "execution_count": 5,
   "metadata": {},
   "outputs": [],
   "source": [
    "def IN_Initialize_MI(estMethod, extraParam=None, addNoise=False):\n",
    "    \"\"\"\n",
    "    Initialize Information Dynamics Toolkit object for MI computation.\n",
    "    \"\"\"\n",
    "    if estMethod == 'gaussian':\n",
    "        implementingClass = 'infodynamics.measures.continuous.gaussian'\n",
    "        miCalc = jp.JPackage(implementingClass).MutualInfoCalculatorMultiVariateGaussian()\n",
    "    elif estMethod == 'kernel':\n",
    "        implementingClass = 'infodynamics.measures.continuous.kernel'\n",
    "        miCalc = jp.JPackage(implementingClass).MutualInfoCalculatorMultiVariateKernel()\n",
    "    elif estMethod == 'kraskov1':\n",
    "        implementingClass = 'infodynamics.measures.continuous.kraskov'\n",
    "        miCalc = jp.JPackage(implementingClass).MutualInfoCalculatorMultiVariateKraskov1()\n",
    "    elif estMethod == 'kraskov2':\n",
    "        implementingClass = 'infodynamics.measures.continuous.kraskov'\n",
    "        miCalc = jp.JPackage(implementingClass).MutualInfoCalculatorMultiVariateKraskov2()\n",
    "    else:\n",
    "        raise ValueError(f\"Unknown mutual information estimation method '{estMethod}'\")\n",
    "\n",
    "    # Add neighest neighbor option for KSG estimator\n",
    "    if estMethod in ['kraskov1', 'kraskov2']:\n",
    "        if extraParam != None:\n",
    "            miCalc.setProperty('k', extraParam) # 4th input specifies number of nearest neighbors for KSG estimator\n",
    "        else:\n",
    "            miCalc.setProperty('k', '3') # use 3 nearest neighbors for KSG estimator as default\n",
    "        \n",
    "    # Make deterministic if kraskov1 or 2 (which adds a small amount of noise to the signal by default)\n",
    "    if (estMethod in ['kraskov1', 'kraskov2']) and (addNoise == False):\n",
    "        miCalc.setProperty('NOISE_LEVEL_TO_ADD','0')\n",
    "    \n",
    "    # Specify a univariate calculation\n",
    "    miCalc.initialise(1,1)\n",
    "\n",
    "    return miCalc"
   ]
  },
  {
   "cell_type": "code",
   "execution_count": 6,
   "metadata": {},
   "outputs": [],
   "source": [
    "def IN_AutoMutualInfo(y, timeDelay=1, estMethod='gaussian', extraParam=None):\n",
    "    \"\"\"\n",
    "    Time-series automutual information\n",
    "\n",
    "    Parameters:\n",
    "    -----------\n",
    "    y : array_like\n",
    "        Input time series (column vector)\n",
    "    time_delay : int or list, optional\n",
    "        Time lag for automutual information calculation (default is 1)\n",
    "    est_method : str, optional\n",
    "        The estimation method used to compute the mutual information:\n",
    "        - 'gaussian'\n",
    "        - 'kernel'\n",
    "        - 'kraskov1'\n",
    "        - 'kraskov2'\n",
    "        (default is 'kernel')\n",
    "    extra_param : any, optional\n",
    "        Extra parameters for the estimation method (default is None)\n",
    "\n",
    "    Returns:\n",
    "    --------\n",
    "    out : float or dict\n",
    "        Automutual information value(s)\n",
    "    \"\"\"\n",
    "\n",
    "    if isinstance(timeDelay, str) and timeDelay in ['ac', 'tau']:\n",
    "        print(\"ADD CO_FIRSTCROSSING\")\n",
    "    \n",
    "    y = np.asarray(y).flatten()\n",
    "    N = len(y)\n",
    "    minSamples = 5 # minimum 5 samples to compute mutual information (could make higher?)\n",
    "\n",
    "    # Loop over time delays if a vector\n",
    "    if isinstance(timeDelay, int):\n",
    "        timeDelay = [timeDelay]\n",
    "    \n",
    "    numTimeDelays = len(timeDelay)\n",
    "    amis = np.full(numTimeDelays, np.nan)\n",
    "\n",
    "    if numTimeDelays > 1:\n",
    "        timeDelay = np.sort(timeDelay)\n",
    "    \n",
    "    # initialise the MI calculator object if using non-Gaussian estimator\n",
    "    if estMethod != 'gaussian':\n",
    "        # assumes the JVM has already been started up\n",
    "        miCalc = IN_Initialize_MI(estMethod, extraParam=extraParam, addNoise=False) # NO ADDED NOISE!\n",
    "    \n",
    "    for k, delay in enumerate(timeDelay):\n",
    "        # check enough samples to compute automutual info\n",
    "        if delay > N - minSamples:\n",
    "            # time sereis too short - keep the remaining values as NaNs\n",
    "            break\n",
    "        # form the time-delay vectors y1 and y2\n",
    "        y1 = y[:-delay]\n",
    "        y2 = y[delay:]\n",
    "\n",
    "        if estMethod == 'gaussian':\n",
    "            r, _ = stats.pearsonr(y1, y2)\n",
    "            amis[k] = -0.5*np.log(1 - r**2)\n",
    "        else:\n",
    "            # Reinitialize for Kraskov:\n",
    "            miCalc.initialise(1, 1)\n",
    "            # Set observations to time-delayed versions of the time series:\n",
    "            y1_jp = jp.JArray(jp.JDouble)(y1) # convert observations to java double\n",
    "            y2_jp = jp.JArray(jp.JDouble)(y2)\n",
    "            miCalc.setObservations(y1_jp, y2_jp)\n",
    "            # compute\n",
    "            amis[k] = miCalc.computeAverageLocalOfObservations()\n",
    "        \n",
    "    if np.isnan(amis).any():\n",
    "        print(f\"Warning: Time series (N={N}) is too short for automutual information calculations up to lags of {max(timeDelay)}\")\n",
    "    if numTimeDelays == 1:\n",
    "        # return a scalar if only one time delay\n",
    "        return amis[0]\n",
    "    else:\n",
    "        # return a dict for multiple time delays\n",
    "        return {f\"ami{delay}\": ami for delay, ami in zip(timeDelay, amis)}"
   ]
  },
  {
   "cell_type": "code",
   "execution_count": 167,
   "metadata": {},
   "outputs": [
    {
     "data": {
      "text/plain": [
       "{'ami1': 1.8745546128068256,\n",
       " 'ami2': 1.5913516748120065,\n",
       " 'ami3': 1.446634477674225,\n",
       " 'ami10': 1.2429953968321528}"
      ]
     },
     "execution_count": 167,
     "metadata": {},
     "output_type": "execute_result"
    }
   ],
   "source": [
    "IN_AutoMutualInfo(ts1, [1, 2, 3, 10], 'kernel')"
   ]
  },
  {
   "cell_type": "code",
   "execution_count": null,
   "metadata": {},
   "outputs": [],
   "source": []
  }
 ],
 "metadata": {
  "kernelspec": {
   "display_name": "Python 3",
   "language": "python",
   "name": "python3"
  },
  "language_info": {
   "codemirror_mode": {
    "name": "ipython",
    "version": 3
   },
   "file_extension": ".py",
   "mimetype": "text/x-python",
   "name": "python",
   "nbconvert_exporter": "python",
   "pygments_lexer": "ipython3",
   "version": "3.9.0"
  }
 },
 "nbformat": 4,
 "nbformat_minor": 2
}
