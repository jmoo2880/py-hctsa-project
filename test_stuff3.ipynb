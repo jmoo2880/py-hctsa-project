{
 "cells": [
  {
   "cell_type": "code",
   "execution_count": 164,
   "metadata": {},
   "outputs": [],
   "source": [
    "import numpy as np\n",
    "from scipy import stats, signal\n",
    "from scipy import stats\n",
    "from scipy.stats import skew, kurtosis\n",
    "from sklearn.neighbors import KernelDensity\n",
    "from PeripheryFunctions.BF_zscore import BF_zscore as zscore\n",
    "from Operations.CO_FirstCrossing import CO_FirstCrossing\n",
    "from Operations.CO_AutoCorr import CO_AutoCorr"
   ]
  },
  {
   "cell_type": "code",
   "execution_count": 2,
   "metadata": {},
   "outputs": [],
   "source": [
    "ts1 = np.loadtxt(\"ts1.txt\")\n",
    "ts2 = np.loadtxt(\"ts2.txt\")\n",
    "ts3 = np.loadtxt(\"ts3.txt\")\n",
    "ts4 = np.loadtxt(\"ts4.txt\")"
   ]
  },
  {
   "cell_type": "code",
   "execution_count": 185,
   "metadata": {},
   "outputs": [],
   "source": [
    "from Operations.CO_StickAngles import CO_StickAngles as cosa"
   ]
  },
  {
   "cell_type": "code",
   "execution_count": 187,
   "metadata": {},
   "outputs": [
    {
     "data": {
      "text/plain": [
       "{'std_p': 0.5027504148794263,\n",
       " 'mean_p': -6.235271531304557e-05,\n",
       " 'median_p': -0.0035133134467759245,\n",
       " 'std_n': 0.462371607293571,\n",
       " 'mean_n': -0.008728287801940902,\n",
       " 'median_n': -0.013229225264481554,\n",
       " 'std': 0.48352890298973666,\n",
       " 'mean': -0.004230337526516828,\n",
       " 'median': -0.00955703713348599,\n",
       " 'pnsumabsdiff': 8.459896700748777,\n",
       " 'symks_p': 2.2115433567073026,\n",
       " 'ratmean_p': -1.0152425906699372,\n",
       " 'symks_n': 2.526444603491926,\n",
       " 'ratmean_n': -1.0612962385220241,\n",
       " 'statav2_p_m': 0.02674890277634359,\n",
       " 'statav2_p_s': 0.08354982607407505,\n",
       " 'statav3_p_m': 0.02619726428810257,\n",
       " 'statav3_p_s': 0.015548844561512577,\n",
       " 'statav4_p_m': 0.03742340745558481,\n",
       " 'statav4_p_s': 0.09722608300663128,\n",
       " 'statav5_p_m': 0.042009027116236844,\n",
       " 'statav5_p_s': 0.07038514624263459,\n",
       " 'statav2_n_m': 0.009434256937695428,\n",
       " 'statav2_n_s': 0.06829856622475095,\n",
       " 'statav3_n_m': 0.02465345278403096,\n",
       " 'statav3_n_s': 0.04028253149224553,\n",
       " 'statav4_n_m': 0.03363963240126525,\n",
       " 'statav4_n_s': 0.07847609004849888,\n",
       " 'statav5_n_m': 0.030295272781361484,\n",
       " 'statav5_n_s': 0.06803726769201446,\n",
       " 'statav2_all_m': 0.01846951270733195,\n",
       " 'statav2_all_s': 0.05896439656461864,\n",
       " 'statav3_all_m': 0.022874056275847526,\n",
       " 'statav3_all_s': 0.03315943682495229,\n",
       " 'statav4_all_m': 0.02355531877237269,\n",
       " 'statav4_all_s': 0.0721051138690313,\n",
       " 'statav5_all_m': 0.03129478222118176,\n",
       " 'statav5_all_s': 0.05458920643130157,\n",
       " 'tau_p': 0.687431715985243,\n",
       " 'ac1_p': -0.39177786291382477,\n",
       " 'ac2_p': -0.08017911406623855,\n",
       " 'tau_all': 0.7046377447710741,\n",
       " 'ac1_all': -0.4191689381114327,\n",
       " 'ac2_all': -0.03936446510999283,\n",
       " 'q1_p': -2.0867039064531507,\n",
       " 'q10_p': -1.385805463826177,\n",
       " 'q90_p': 1.3717600404550503,\n",
       " 'q99_p': 2.17990268176513,\n",
       " 'skewness_p': 0.07546608904049,\n",
       " 'kurtosis_p': 2.697317474904257,\n",
       " 'q1_n': -2.256201755756181,\n",
       " 'q10_n': -1.3337179353417774,\n",
       " 'q90_n': 1.3391566255876872,\n",
       " 'q99_n': 2.3402802112223564,\n",
       " 'skewness_n': 0.03688850861528564,\n",
       " 'kurtosis_n': 2.9803814510363473,\n",
       " 'q1_all': -2.1621749470255205,\n",
       " 'q10_all': -1.3546843787830802,\n",
       " 'q90_all': 1.3737894488246523,\n",
       " 'q99_all': 2.2622406170691507,\n",
       " 'skewness_all': 0.061694228514078533,\n",
       " 'kurtosis_all': 2.8305948483493424}"
      ]
     },
     "execution_count": 187,
     "metadata": {},
     "output_type": "execute_result"
    }
   ],
   "source": [
    "cosa(ts3)"
   ]
  },
  {
   "cell_type": "code",
   "execution_count": null,
   "metadata": {},
   "outputs": [],
   "source": []
  }
 ],
 "metadata": {
  "kernelspec": {
   "display_name": "pyspi-upgraded38",
   "language": "python",
   "name": "python3"
  },
  "language_info": {
   "codemirror_mode": {
    "name": "ipython",
    "version": 3
   },
   "file_extension": ".py",
   "mimetype": "text/x-python",
   "name": "python",
   "nbconvert_exporter": "python",
   "pygments_lexer": "ipython3",
   "version": "3.11.9"
  }
 },
 "nbformat": 4,
 "nbformat_minor": 2
}
