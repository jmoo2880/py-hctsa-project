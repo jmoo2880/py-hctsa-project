{
 "cells": [
  {
   "cell_type": "code",
   "execution_count": 1,
   "metadata": {},
   "outputs": [],
   "source": [
    "import numpy as np"
   ]
  },
  {
   "cell_type": "code",
   "execution_count": 5,
   "metadata": {},
   "outputs": [],
   "source": [
    "ts1 = np.loadtxt(\"ts1.txt\")\n",
    "ts2 = np.loadtxt(\"ts2.txt\")\n",
    "ts3 = np.loadtxt(\"ts3.txt\")"
   ]
  },
  {
   "cell_type": "code",
   "execution_count": 4,
   "metadata": {},
   "outputs": [],
   "source": [
    "from Operations.ST_LocalExtrema import ST_LocalExrema as STLE"
   ]
  },
  {
   "cell_type": "code",
   "execution_count": 1,
   "metadata": {},
   "outputs": [],
   "source": [
    "from ctypes import *\n",
    "import ctypes"
   ]
  },
  {
   "cell_type": "code",
   "execution_count": 7,
   "metadata": {},
   "outputs": [],
   "source": [
    "so_file = \"/Users/joshua/Desktop/MS_shannon.so\"\n",
    "lib = CDLL(so_file)"
   ]
  },
  {
   "cell_type": "code",
   "execution_count": 8,
   "metadata": {},
   "outputs": [],
   "source": [
    "lib.entropy.argtypes = [\n",
    "    np.ctypeslib.ndpointer(dtype=np.float64, flags='C_CONTIGUOUS'),\n",
    "    ctypes.c_int,\n",
    "    ctypes.c_int,\n",
    "    ctypes.c_int,\n",
    "    ctypes.POINTER(ctypes.c_double)\n",
    "]\n",
    "lib.entropy.restype = None  # void function"
   ]
  },
  {
   "cell_type": "code",
   "execution_count": 9,
   "metadata": {},
   "outputs": [],
   "source": [
    "def shannon_entropy(data, bin_count, depth):\n",
    "    \"\"\"\n",
    "    Calculate Shannon Entropy using the C function.\n",
    "    \n",
    "    Args:\n",
    "    data (numpy.array): Input time series data\n",
    "    bin_count (int): Number of bins for encoding\n",
    "    depth (int): Depth of the encoding\n",
    "    \n",
    "    Returns:\n",
    "    float: Calculated Shannon Entropy\n",
    "    \"\"\"\n",
    "    data = np.ascontiguousarray(data, dtype=np.float64)\n",
    "    length = len(data)\n",
    "    result = ctypes.c_double()\n",
    "    \n",
    "    lib.entropy(data, length, bin_count, depth, ctypes.byref(result))\n",
    "    \n",
    "    return result.value"
   ]
  },
  {
   "cell_type": "code",
   "execution_count": 10,
   "metadata": {},
   "outputs": [
    {
     "data": {
      "text/plain": [
       "3.258990526199341"
      ]
     },
     "execution_count": 10,
     "metadata": {},
     "output_type": "execute_result"
    }
   ],
   "source": [
    "shannon_entropy(ts3, 2, 5)"
   ]
  },
  {
   "cell_type": "code",
   "execution_count": 12,
   "metadata": {},
   "outputs": [],
   "source": [
    "numBins = 10\n",
    "numBins = [numBins]"
   ]
  },
  {
   "cell_type": "code",
   "execution_count": 2,
   "metadata": {},
   "outputs": [],
   "source": [
    "import numpy as np\n",
    "from Operations.CO_HistogramAMI import CO_HistogramAMI\n",
    "from scipy import stats\n",
    "from PeripheryFunctions.BF_SignChange import BF_SignChange\n",
    "\n",
    "def CO_CompareMinAMI(y, binMethod, numBins = 10):\n",
    "    \"\"\"\n",
    "    \"\"\"\n",
    "    N = len(y)\n",
    "    # Range of time lags to consider\n",
    "    tauRange = np.arange(0, int(np.ceil(N/2))+1)\n",
    "    numTaus = len(tauRange)\n",
    "\n",
    "    # range of bin numbers to consider\n",
    "    if isinstance(numBins, int):\n",
    "        numBins = [numBins]\n",
    "    \n",
    "    numBinsRange = len(numBins)\n",
    "    amiMins = np.zeros(numBinsRange)\n",
    "\n",
    "    # Calculate automutual information\n",
    "    for i in range(numBinsRange):  # vary over number of bins in histogram\n",
    "        amis = np.zeros(numTaus)\n",
    "        for j in range(numTaus):  # vary over time lags, tau\n",
    "            amis[j] = CO_HistogramAMI(y, tauRange[j], binMethod, numBins[i])\n",
    "            if (j > 1) and ((amis[j] - amis[j-1]) * (amis[j-1] - amis[j-2]) < 0):\n",
    "                amiMins[i] = tauRange[j-1]\n",
    "                break\n",
    "        if amiMins[i] == 0:\n",
    "            amiMins[i] = tauRange[-1]\n",
    "    # basic statistics\n",
    "    print(amis)\n",
    "    out = {}\n",
    "    out['min'] = np.min(amiMins)\n",
    "    out['max'] = np.max(amiMins)\n",
    "    out['range'] = np.ptp(amiMins)\n",
    "    out['median'] = np.median(amiMins)\n",
    "    out['mean'] = np.mean(amiMins)\n",
    "    out['std'] = np.std(amiMins, ddof=1)\n",
    "    out['nunique'] = len(np.unique(amiMins))\n",
    "    out['mode'], out['modef'] = stats.mode(amiMins)\n",
    "    out['modef'] = out['modef']/numBinsRange\n",
    "\n",
    "    # converged value? \n",
    "    out['conv4'] = np.mean(amiMins[-5:])\n",
    "\n",
    "    # look for peaks (local maxima)\n",
    "    # % local maxima above 1*std from mean\n",
    "    # inspired by curious result of periodic maxima for periodic signal with\n",
    "    # bin size... ('quantiles', [2:80])\n",
    "    diff_ami_mins = np.diff(amiMins[:-1])\n",
    "    positive_diff_indices = np.where(diff_ami_mins > 0)[0]\n",
    "    sign_change_indices = BF_SignChange(diff_ami_mins, 1)\n",
    "\n",
    "    # Find the intersection of positive_diff_indices and sign_change_indices\n",
    "    loc_extr = np.intersect1d(positive_diff_indices, sign_change_indices) + 1\n",
    "    above_threshold_indices = np.where(amiMins > out['mean'] + out['std'])[0]\n",
    "    big_loc_extr = np.intersect1d(above_threshold_indices, loc_extr)\n",
    "\n",
    "    # Count the number of elements in big_loc_extr\n",
    "    out['nlocmax'] = len(big_loc_extr)\n",
    "\n",
    "    return out\n"
   ]
  },
  {
   "cell_type": "code",
   "execution_count": 8,
   "metadata": {},
   "outputs": [],
   "source": [
    "from Operations.CO_CompareMinAMI import CO_CompareMinAMI as coma"
   ]
  },
  {
   "cell_type": "code",
   "execution_count": null,
   "metadata": {},
   "outputs": [],
   "source": []
  }
 ],
 "metadata": {
  "kernelspec": {
   "display_name": "Python 3",
   "language": "python",
   "name": "python3"
  },
  "language_info": {
   "codemirror_mode": {
    "name": "ipython",
    "version": 3
   },
   "file_extension": ".py",
   "mimetype": "text/x-python",
   "name": "python",
   "nbconvert_exporter": "python",
   "pygments_lexer": "ipython3",
   "version": "3.11.9"
  }
 },
 "nbformat": 4,
 "nbformat_minor": 2
}
