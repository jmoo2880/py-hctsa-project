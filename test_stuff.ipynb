{
 "cells": [
  {
   "cell_type": "code",
   "execution_count": 1,
   "metadata": {},
   "outputs": [],
   "source": [
    "import numpy as np\n",
    "import matplotlib.pyplot as plt\n",
    "import nitime"
   ]
  },
  {
   "cell_type": "code",
   "execution_count": 2,
   "metadata": {},
   "outputs": [],
   "source": [
    "ts1 = np.loadtxt(\"ts1.txt\")\n",
    "ts2 = np.loadtxt(\"ts2.txt\")\n",
    "ts3 = np.loadtxt(\"ts3.txt\")"
   ]
  },
  {
   "cell_type": "code",
   "execution_count": 3,
   "metadata": {},
   "outputs": [],
   "source": [
    "import numpy as np\n",
    "from Operations.CO_FirstCrossing import CO_FirstCrossing\n",
    "\n",
    "def CO_glscf(y, alpha, beta, tau = 'tau'):\n",
    "    \"\"\"\n",
    "    \"\"\"\n",
    "    # Set tau to first zero-crossing of the autocorrelation function with the input 'tau'\n",
    "    if tau == 'tau':\n",
    "        tau = CO_FirstCrossing(y, 'ac', 0, 'discrete')\n",
    "    \n",
    "    # Take magnitudes of time-delayed versions of the time series\n",
    "    y1 = np.abs(y[:-tau])\n",
    "    y2 = np.abs(y[tau:])\n",
    "\n",
    "\n",
    "    p1 = np.mean(np.multiply((y1 ** alpha), (y2 ** beta)))\n",
    "    p2 = np.multiply(np.mean(y1 ** alpha), np.mean(y2 ** beta))\n",
    "    p3 = np.sqrt(np.mean(y1 ** (2*alpha)) - (np.mean(y1 ** alpha))**2)\n",
    "    p4 = np.sqrt(np.mean(y2 ** (2*beta)) - (np.mean(y2 ** beta))**2)\n",
    "\n",
    "    glscf = (p1 - p2) / (p3 * p4)\n",
    "\n",
    "    return glscf    \n"
   ]
  },
  {
   "cell_type": "code",
   "execution_count": 11,
   "metadata": {},
   "outputs": [
    {
     "data": {
      "text/plain": [
       "0.25284356429315435"
      ]
     },
     "execution_count": 11,
     "metadata": {},
     "output_type": "execute_result"
    }
   ],
   "source": [
    "CO_glscf(ts1, 0.9, 0.4, 3)"
   ]
  },
  {
   "cell_type": "code",
   "execution_count": 13,
   "metadata": {},
   "outputs": [],
   "source": [
    "import numpy as np\n",
    "from Operations.CO_FirstCrossing import CO_FirstCrossing\n",
    "from Operations.CO_glscf import CO_glscf\n",
    "\n",
    "def CO_fzcglscf(y, alpha, beta, maxtau = None):\n",
    "    \"\"\"\n",
    "    \"\"\"\n",
    "    N = len(y) # the length of the time series\n",
    "\n",
    "    if maxtau is None:\n",
    "        maxtau = N\n",
    "    \n",
    "    glscfs = np.zeros(maxtau)\n",
    "\n",
    "    for i in range(1, maxtau+1):\n",
    "        tau = i\n",
    "\n",
    "        glscfs[i-1] = CO_glscf(y, alpha, beta, tau)\n",
    "        if (i > 1) and (glscfs[i-1]*glscfs[i-2] < 0):\n",
    "            # Draw a straight line between these two and look at where it hits zero\n",
    "            out = i - 1 + glscfs[i-1]/(glscfs[i-1]-glscfs[i-2])\n",
    "            return out\n",
    "    \n",
    "    return maxtau # if the function hasn't exited yet, set output to maxtau \n"
   ]
  },
  {
   "cell_type": "code",
   "execution_count": 86,
   "metadata": {},
   "outputs": [],
   "source": [
    "import warnings\n",
    "import numpy as np\n",
    "\n",
    "def DN_cv(x, k = 1):\n",
    "    \"\"\"\n",
    "    Coefficient of variation\n",
    "\n",
    "    Coefficient of variation of order k is sigma^k / mu^k (for sigma, standard\n",
    "    deviation and mu, mean) of a data vector, x\n",
    "\n",
    "    Parameters:\n",
    "    ----------\n",
    "    x (array-like): The input data vector\n",
    "    k (int, optional): The order of coefficient of variation (k = 1 is default)\n",
    "\n",
    "    Returns:\n",
    "    -------\n",
    "    float: The coefficient of variation of order k\n",
    "    \"\"\"\n",
    "    if not isinstance(k, int) or k < 0:\n",
    "        warnings.warn('k should probably be a positive integer')\n",
    "        # Carry on with just this warning, though\n",
    "    \n",
    "    # Compute the coefficient of variation (of order k) of the data\n",
    "    return (np.std(x, ddof=1) ** k) / (np.mean(x) ** k)\n"
   ]
  },
  {
   "cell_type": "code",
   "execution_count": 88,
   "metadata": {},
   "outputs": [
    {
     "data": {
      "text/plain": [
       "26.269342687595913"
      ]
     },
     "execution_count": 88,
     "metadata": {},
     "output_type": "execute_result"
    }
   ],
   "source": [
    "DN_cv(ts3)"
   ]
  },
  {
   "cell_type": "code",
   "execution_count": 113,
   "metadata": {},
   "outputs": [
    {
     "data": {
      "text/plain": [
       "1.2765413621752804"
      ]
     },
     "execution_count": 113,
     "metadata": {},
     "output_type": "execute_result"
    }
   ],
   "source": [
    "DN_nlogL_norm(ts2)"
   ]
  },
  {
   "cell_type": "code",
   "execution_count": 118,
   "metadata": {},
   "outputs": [],
   "source": [
    "import numpy as np \n",
    "\n",
    "def DN_HighLowMu(y):\n",
    "    \"\"\"\n",
    "    The highlowmu statistic.\n",
    "\n",
    "    The highlowmu statistic is the ratio of the mean of the data that is above the\n",
    "    (global) mean compared to the mean of the data that is below the global mean.\n",
    "\n",
    "    Paramters:\n",
    "    ----------\n",
    "    y (array-like): The input data vector\n",
    "\n",
    "    Returns:\n",
    "    --------\n",
    "    float: The highlowmu statistic.\n",
    "    \"\"\"\n",
    "    mu = np.mean(y) # mean of data\n",
    "    mhi = np.mean(y[y > mu]) # mean of data above the mean\n",
    "    mlo = np.mean(y[y < mu]) # mean of data below the mean\n",
    "    out = np.divide((mhi-mu), (mu-mlo)) # ratio of the differences\n",
    "\n",
    "    return out\n"
   ]
  },
  {
   "cell_type": "code",
   "execution_count": 119,
   "metadata": {},
   "outputs": [
    {
     "data": {
      "text/plain": [
       "1.0325203252032518"
      ]
     },
     "execution_count": 119,
     "metadata": {},
     "output_type": "execute_result"
    }
   ],
   "source": [
    "DN_HighLowMu(ts2)"
   ]
  },
  {
   "cell_type": "code",
   "execution_count": 120,
   "metadata": {},
   "outputs": [],
   "source": [
    "import numpy as np\n",
    "\n",
    "def BF_SimpleBinner(xData, numBins):\n",
    "    \"\"\"\n",
    "    Generate a histogram from equally spaced bins.\n",
    "   \n",
    "    Parameters:\n",
    "    xData (array-like): A data vector.\n",
    "    numBins (int): The number of bins.\n",
    "\n",
    "    Returns:\n",
    "    tuple: (N, binEdges)\n",
    "        N (numpy.ndarray): The counts\n",
    "        binEdges (numpy.ndarray): The extremities of the bins.\n",
    "    \"\"\"\n",
    "    minX = np.min(xData)\n",
    "    maxX = np.max(xData)\n",
    "    \n",
    "    # Linearly spaced bins:\n",
    "    binEdges = np.linspace(minX, maxX, numBins + 1)\n",
    "    N = np.zeros(numBins, dtype=int)\n",
    "    \n",
    "    for i in range(numBins):\n",
    "        if i < numBins - 1:\n",
    "            N[i] = np.sum((xData >= binEdges[i]) & (xData < binEdges[i+1]))\n",
    "        else:\n",
    "            # the final bin\n",
    "            N[i] = np.sum((xData >= binEdges[i]) & (xData <= binEdges[i+1]))\n",
    "    \n",
    "    return N, binEdges\n"
   ]
  },
  {
   "cell_type": "code",
   "execution_count": 140,
   "metadata": {},
   "outputs": [],
   "source": [
    "from scipy import stats\n",
    "\n",
    "def DN_Cumulants(y, cumWhatMay = 'skew1'):\n",
    "    \n",
    "    \"\"\"\n",
    "    \"\"\"\n",
    "\n",
    "    if cumWhatMay == 'skew1':\n",
    "        out = stats.skew(y)\n",
    "    elif cumWhatMay == 'skew2':\n",
    "        out = stats.skew(y, bias=False)\n",
    "    elif cumWhatMay == 'kurt1':\n",
    "        out = stats.kurtosis(y, fisher=False)\n",
    "    elif cumWhatMay == 'kurt2':\n",
    "        out = stats.kurtosis(y, bias=False, fisher=False)\n",
    "    else:\n",
    "        raise ValueError('Requested Unknown cumulant must be: skew1, skew2, kurt1, or kurt2')\n",
    "    \n",
    "    return out\n"
   ]
  },
  {
   "cell_type": "code",
   "execution_count": 141,
   "metadata": {},
   "outputs": [
    {
     "data": {
      "text/plain": [
       "1.497362974297833"
      ]
     },
     "execution_count": 141,
     "metadata": {},
     "output_type": "execute_result"
    }
   ],
   "source": [
    "DN_Cumulants(ts1, cumWhatMay='kurt1')"
   ]
  },
  {
   "cell_type": "code",
   "execution_count": 142,
   "metadata": {},
   "outputs": [
    {
     "data": {
      "text/plain": [
       "1.4958467355321061"
      ]
     },
     "execution_count": 142,
     "metadata": {},
     "output_type": "execute_result"
    }
   ],
   "source": [
    "DN_Cumulants(ts1, cumWhatMay='kurt2')"
   ]
  },
  {
   "cell_type": "code",
   "execution_count": 144,
   "metadata": {},
   "outputs": [],
   "source": [
    "import numpy as np\n",
    "\n",
    "def EN_ApEN(y, mnom = 1, rth = 0.2):\n",
    "    \"\"\"\n",
    "    \"\"\"\n",
    "    r = rth * np.std(y, ddof=1) # threshold of similarity\n",
    "    N = len(y) # time series length\n",
    "    phi = np.zeros(2) # phi[0] = phi_m, phi[1] = phi_{m+1}\n",
    "\n",
    "    for k in range(2):\n",
    "        m = mnom+k # pattern length\n",
    "        C = np.zeros(N - m + 1)\n",
    "        # define the matrix x, containing subsequences of u\n",
    "        x = np.zeros((N-m+1, m))\n",
    "\n",
    "        # Form vector sequences x from the time series y\n",
    "        x = np.array([y[i:i+m] for i in range(N - m + 1)])\n",
    "        \n",
    "        for i in range(N - m + 1):\n",
    "            # Calculate the number of x[j] within r of x[i]\n",
    "            d = np.abs(x - x[i])\n",
    "            if m > 1:\n",
    "                d = np.max(d, axis=1)\n",
    "            C[i] = np.sum(d <= r) / (N - m + 1)\n",
    "\n",
    "        phi[k] = np.mean(np.log(C))\n",
    "\n",
    "    return phi[0] - phi[1]\n"
   ]
  },
  {
   "cell_type": "code",
   "execution_count": 149,
   "metadata": {},
   "outputs": [
    {
     "data": {
      "text/plain": [
       "1.514020217676181"
      ]
     },
     "execution_count": 149,
     "metadata": {},
     "output_type": "execute_result"
    }
   ],
   "source": [
    "EN_ApEN(ts3, 2, 0.4)"
   ]
  },
  {
   "cell_type": "code",
   "execution_count": 152,
   "metadata": {},
   "outputs": [],
   "source": [
    "import matplotlib.mlab\n",
    "import numpy as np\n",
    "import scipy\n",
    "from scipy import signal\n",
    "import math\n",
    "import matplotlib\n",
    "\n",
    "def MD_hrv_classic(y):\n",
    "    \"\"\"\n",
    "    \"\"\"\n",
    "\n",
    "    # Standard defaults\n",
    "    y = np.array(y)\n",
    "    diffy = np.diff(y)\n",
    "    N = len(y)\n",
    "\n",
    "    # ------------------------------------------------------------------------------\n",
    "    # Calculate pNNx percentage\n",
    "    # ------------------------------------------------------------------------------\n",
    "    # pNNx: recommendation as per Mietus et. al. 2002, \"The pNNx files: ...\", Heart\n",
    "    # strange to do this for a z-scored time series...\n",
    "    Dy = np.abs(diffy)\n",
    "    PNNxfn = lambda x : np.mean(Dy > x/1000)\n",
    "\n",
    "    out = {}\n",
    "\n",
    "    out['pnn5'] = PNNxfn(5) # 0.0055*sigma\n",
    "    out['pnn10'] = PNNxfn(10) # 0.01*sigma\n",
    "    out['pnn20'] = PNNxfn(20) # 0.02*sigma\n",
    "    out['pnn30'] = PNNxfn(30) # 0.03*sigma\n",
    "    out['pnn40'] = PNNxfn(40) # 0.04*sigma\n",
    "\n",
    "    # ------------------------------------------------------------------------------\n",
    "    # Calculate PSD\n",
    "    # ------------------------------------------------------------------------------\n",
    "\n",
    "    F, Pxx = signal.periodogram(y, window=np.hanning(N))\n",
    "\n",
    "    # Calculate spectral measures such as subband spectral power percentage, LF/HF ratio etc.\n",
    "    LF_lo = 0.04 # /pi -- fraction of total power (max F is pi)\n",
    "    LF_hi = 0.15\n",
    "    HF_lo = 0.15\n",
    "    HF_hi = 0.4\n",
    "\n",
    "    fbinsize = F[1] - F[0]\n",
    "\n",
    "    # Calculate PSD\n",
    "    f, Pxx = signal.periodogram(y, window='hann', detrend=False)\n",
    "    f *= 2 * np.pi\n",
    "    #print(Pxx)\n",
    "\n",
    "    # Calculate spectral measures\n",
    "    LF_lo, LF_hi = 0.04, 0.15\n",
    "    HF_lo, HF_hi = 0.15, 0.4\n",
    "\n",
    "    fbinsize = f[1] - f[0]\n",
    "    indl = (f >= LF_lo) & (f <= LF_hi)\n",
    "    indh = (f >= HF_lo) & (f <= HF_hi)\n",
    "    indv = f <= LF_lo\n",
    "\n",
    "    lfp = fbinsize * np.sum(Pxx[indl])\n",
    "    hfp = fbinsize * np.sum(Pxx[indh])\n",
    "    vlfp = fbinsize * np.sum(Pxx[indv])\n",
    "    total = fbinsize * np.sum(Pxx)\n",
    "\n",
    "    out['lfhf'] = lfp / hfp\n",
    "    out['vlf'] = vlfp / total * 100\n",
    "    out['lf'] = lfp / total * 100\n",
    "    out['hf'] = hfp / total * 100\n",
    "\n",
    "    # Triangular histogram index\n",
    "    numBins = 10\n",
    "    hist = np.histogram(y, bins=numBins)\n",
    "    out['tri'] = len(y)/np.max(hist[0])\n",
    "\n",
    "    # Poincare plot measures:\n",
    "    # cf. \"Do Existing Measures ... \", Brennan et. al. (2001), IEEE Trans Biomed Eng 48(11)\n",
    "    rmssd = np.std(diffy, ddof=1)\n",
    "    sigma = np.std(y, ddof=1)\n",
    "\n",
    "    out[\"SD1\"] = 1/math.sqrt(2) * rmssd * 1000\n",
    "    out[\"SD2\"] = math.sqrt(2 * sigma**2 - (1/2) * rmssd**2) * 1000\n",
    "\n",
    "    return out\n"
   ]
  },
  {
   "cell_type": "code",
   "execution_count": 242,
   "metadata": {},
   "outputs": [
    {
     "data": {
      "text/plain": [
       "{'pnn5': 0.982982982982983,\n",
       " 'pnn10': 0.9669669669669669,\n",
       " 'pnn20': 0.9359359359359359,\n",
       " 'pnn30': 0.9029029029029029,\n",
       " 'pnn40': 0.8708708708708709,\n",
       " 'lfhf': 8.4832685576491e-08,\n",
       " 'vlf': 1.1046723335508328e-08,\n",
       " 'lf': 8.483267835924858e-06,\n",
       " 'hf': 99.99999149238012,\n",
       " 'tri': 4.830917874396135,\n",
       " 'SD1': 99.72437694213063,\n",
       " 'SD2': 996.9513129028788}"
      ]
     },
     "execution_count": 242,
     "metadata": {},
     "output_type": "execute_result"
    }
   ],
   "source": [
    "MD_hrv_classic(ts1)"
   ]
  },
  {
   "cell_type": "code",
   "execution_count": 247,
   "metadata": {},
   "outputs": [],
   "source": [
    "import numpy as np\n",
    "\n",
    "\n",
    "def BF_MakeBuffer(y, bufferSize):\n",
    "    \"\"\"\n",
    "    Make a buffered version of a time series.\n",
    "\n",
    "    Parameters\n",
    "    ----------\n",
    "    y : array-like\n",
    "        The input time series.\n",
    "    buffer_size : int\n",
    "        The length of each buffer segment.\n",
    "\n",
    "    Returns\n",
    "    -------\n",
    "    y_buffer : ndarray\n",
    "        2D array where each row is a segment of length `buffer_size` \n",
    "        corresponding to consecutive, non-overlapping segments of the input time series.\n",
    "    \"\"\"\n",
    "    N = len(y)\n",
    "\n",
    "    numBuffers = int(np.floor(N/bufferSize))\n",
    "\n",
    "    # may need trimming\n",
    "    y_buffer = y[:numBuffers*bufferSize]\n",
    "    # then reshape\n",
    "    y_buffer = y_buffer.reshape((numBuffers,bufferSize))\n",
    "\n",
    "    return y_buffer\n"
   ]
  },
  {
   "cell_type": "code",
   "execution_count": 20,
   "metadata": {},
   "outputs": [],
   "source": [
    "import numpy as np\n",
    "\n",
    "def EN_wentropy(y, whaten = 'shannon', p = None):\n",
    "    \"\"\"\n",
    "    Entropy of time series using wavelets.\n",
    "    Uses a python port of the MATLAB wavelet toolbox wentropy function.\n",
    "\n",
    "    Parameters:\n",
    "    ----------\n",
    "    y : array_like\n",
    "        Input time series\n",
    "    whaten : str, optional\n",
    "        The entropy type:\n",
    "        - 'shannon' (default)\n",
    "        - 'logenergy'\n",
    "        - 'threshold' (with a given threshold)\n",
    "        - 'sure' (with a given parameter)\n",
    "        (see the wentropy documentation for information)\n",
    "    p : any, optional\n",
    "        the additional parameter needed for threshold and sure entropies\n",
    "\n",
    "    Returns:\n",
    "    --------\n",
    "    out : float\n",
    "        Entropy value. \n",
    "    \"\"\"\n",
    "    N = len(y)\n",
    "\n",
    "    if whaten == 'shannon':\n",
    "        # compute Shannon entropy\n",
    "        out = wentropy(y, 'shannon')/N\n",
    "    elif whaten == 'logenergy':\n",
    "        out = wentropy(y, 'logenergy')/N\n",
    "    elif whaten == 'threshold':\n",
    "        # check that p has been provided\n",
    "        if p is not None:\n",
    "            out = wentropy(y, 'threshold', p)/N\n",
    "        else:\n",
    "            raise ValueError(\"threshold requires an additional parameter, p.\")\n",
    "    elif whaten == 'sure':\n",
    "        if p is not None:\n",
    "            out = wentropy(y, 'sure', p)/N\n",
    "        else:\n",
    "            raise ValueError(\"sure requires an additional parameter, p.\")\n",
    "    else:\n",
    "        raise ValueError(f\"Unknown entropy type {whaten}\")\n",
    "\n",
    "    return out\n",
    "\n",
    "# helper functions\n",
    "# taken from https://github.com/fairscape/hctsa-py/blob/master/PeripheryFunctions/wentropy.py\n",
    "def wentropy(x, entType = 'shannon', additionalParameter = None):\n",
    "\n",
    "    if entType == 'shannon':\n",
    "        x = np.power(x[ x != 0 ],2)\n",
    "        return - np.sum(np.multiply(x,np.log(x)))\n",
    "\n",
    "    elif entType == 'threshold':\n",
    "        if additionalParameter is None or isinstance(additionalParameter, str):\n",
    "            return None\n",
    "        x = np.absolute(x)\n",
    "        return np.sum((x > additionalParameter))\n",
    "\n",
    "    elif entType == 'norm':\n",
    "        if additionalParameter is None or isinstance(additionalParameter,str) or additionalParameter < 1:\n",
    "            return None\n",
    "        x = np.absolute(x)\n",
    "        return np.sum(np.power(x, additionalParameter))\n",
    "\n",
    "    elif entType == 'sure':\n",
    "        if additionalParameter is None or isinstance(additionalParameter,str):\n",
    "            return None\n",
    "\n",
    "        N = len(x)\n",
    "        x2 = np.square(x)\n",
    "        t2 = additionalParameter**2\n",
    "        xgt = np.sum((x2 > t2))\n",
    "        xlt = N - xgt\n",
    "\n",
    "        return N - (2*xlt) + (t2 *xgt) + np.sum(np.multiply(x2,(x2 <= t2)))\n",
    "\n",
    "    elif entType == 'logenergy':\n",
    "        x = np.square(x[x != 0])\n",
    "        return np.sum(np.log(x))\n",
    "\n",
    "    else:\n",
    "        print(\"invalid entropy type\")\n",
    "        return None\n",
    "    "
   ]
  },
  {
   "cell_type": "code",
   "execution_count": 22,
   "metadata": {},
   "outputs": [
    {
     "data": {
      "text/plain": [
       "-0.22589264096854644"
      ]
     },
     "execution_count": 22,
     "metadata": {},
     "output_type": "execute_result"
    }
   ],
   "source": [
    "EN_wentropy(ts2)"
   ]
  },
  {
   "cell_type": "code",
   "execution_count": 23,
   "metadata": {},
   "outputs": [],
   "source": [
    "\n",
    "def DN_CustomSkewness(y, whatSkew = 'pearson'):\n",
    "    \"\"\"\n",
    "    Custom skewness measures\n",
    "    \"\"\"\n",
    "\n",
    "    if whatSkew == 'pearson':\n",
    "        out = ((3 * np.mean(y) - np.median(y)) / np.std(y, ddof=1))\n",
    "    elif whatSkew == 'bowley':\n",
    "        qs = np.quantile(y, [0.25, 0.5, 0.75], method='hazen')\n",
    "        out = (qs[2]+qs[0] - 2 * qs[1]) / (qs[2] - qs[0]) \n",
    "    \n",
    "    return out\n"
   ]
  },
  {
   "cell_type": "code",
   "execution_count": 27,
   "metadata": {},
   "outputs": [
    {
     "data": {
      "text/plain": [
       "-0.008252488684308562"
      ]
     },
     "execution_count": 27,
     "metadata": {},
     "output_type": "execute_result"
    }
   ],
   "source": [
    "DN_CustomSkewness(ts3, 'bowley')"
   ]
  },
  {
   "cell_type": "code",
   "execution_count": 29,
   "metadata": {},
   "outputs": [],
   "source": [
    "from scipy import stats\n",
    "from scipy.stats import norm, genextreme, uniform, beta, rayleigh, expon, gamma, lognorm, weibull_min"
   ]
  },
  {
   "cell_type": "code",
   "execution_count": 60,
   "metadata": {},
   "outputs": [],
   "source": [
    "def test(x):\n",
    "    x = (x - np.min(x) + 0.01*np.std(x, ddof=1)) / (np.max(x) - np.min(x) + 0.01*np.std(x, ddof=1))\n",
    "    params = stats.beta.fit(x)\n",
    "    print(params)"
   ]
  },
  {
   "cell_type": "code",
   "execution_count": 61,
   "metadata": {},
   "outputs": [
    {
     "name": "stdout",
     "output_type": "stream",
     "text": [
      "(0.5256618923359788, 0.5346381917755811, -0.0930931392643515, 1.0930931392643517)\n"
     ]
    }
   ],
   "source": [
    "test(ts1)"
   ]
  },
  {
   "cell_type": "code",
   "execution_count": 49,
   "metadata": {},
   "outputs": [
    {
     "data": {
      "text/plain": [
       "2.4431999999999996"
      ]
     },
     "execution_count": 49,
     "metadata": {},
     "output_type": "execute_result"
    }
   ],
   "source": [
    "-2.2148 + 4.6579999999999995"
   ]
  },
  {
   "cell_type": "code",
   "execution_count": 62,
   "metadata": {},
   "outputs": [],
   "source": [
    "def SC_DFA(y):\n",
    "\n",
    "    N = len(y)\n",
    "\n",
    "    tau = int(np.floor(N/2))\n",
    "\n",
    "    y = y - np.mean(y)\n",
    "\n",
    "    x = np.cumsum(y)\n",
    "\n",
    "    taus = np.arange(5,tau+1)\n",
    "\n",
    "    ntau = len(taus)\n",
    "\n",
    "    F = np.zeros(ntau)\n",
    "\n",
    "    for i in range(ntau):\n",
    "\n",
    "        t = int(taus[i])\n",
    "\n",
    "\n",
    "\n",
    "        x_buff = x[:N - N % t]\n",
    "\n",
    "        x_buff = x_buff.reshape((int(N / t),t))\n",
    "\n",
    "\n",
    "        y_buff = np.zeros((int(N / t),t))\n",
    "\n",
    "        for j in range(int(N / t)):\n",
    "\n",
    "            tt = range(0,int(t))\n",
    "\n",
    "            p = np.polyfit(tt,x_buff[j,:],1)\n",
    "\n",
    "            y_buff[j,:] =  np.power(x_buff[j,:] - np.polyval(p,tt),2)\n",
    "\n",
    "\n",
    "\n",
    "        y_buff.reshape((N - N % t,1))\n",
    "\n",
    "        F[i] = np.sqrt(np.mean(y_buff))\n",
    "\n",
    "    logtaur = np.log(taus)\n",
    "\n",
    "    logF = np.log(F)\n",
    "\n",
    "    p = np.polyfit(logtaur,logF,1)\n",
    "\n",
    "    return p[0]"
   ]
  },
  {
   "cell_type": "code",
   "execution_count": 64,
   "metadata": {},
   "outputs": [
    {
     "data": {
      "text/plain": [
       "0.2856214933647925"
      ]
     },
     "execution_count": 64,
     "metadata": {},
     "output_type": "execute_result"
    }
   ],
   "source": [
    "SC_DFA(ts2)"
   ]
  },
  {
   "cell_type": "code",
   "execution_count": 65,
   "metadata": {},
   "outputs": [],
   "source": [
    "import numpy as np\n",
    "import math \n",
    "\n",
    "def CO_RM_AMInformation(y,tau = 1):\n",
    "    \"\"\"\n",
    "    A wrapper for rm_information(), which calculates automutal information\n",
    "\n",
    "    Inputs:\n",
    "        y, the input time series\n",
    "        tau, the time lag at which to calculate automutal information\n",
    "\n",
    "    :returns estimate of mutual information\n",
    "\n",
    "    - Wrapper initially developed by Ben D. Fulcher in MATLAB\n",
    "    - rm_information.py initially developed by Rudy Moddemeijer in MATLAB\n",
    "    - Translated to python by Tucker Cullen\n",
    "\n",
    "    \"\"\"\n",
    "\n",
    "    if tau >= len(y):\n",
    "\n",
    "        return\n",
    "\n",
    "    y1 = y[:-tau]\n",
    "    y2 = y[tau:]\n",
    "\n",
    "    out = RM_information(y1,y2)\n",
    "\n",
    "    return out[0]\n",
    "\n",
    "def RM_histogram2(*args):\n",
    "    \"\"\"\n",
    "    rm_histogram2() computes the two dimensional frequency histogram of two row vectors x and y\n",
    "\n",
    "    Takes in either two or three parameters:\n",
    "        rm_histogram(x, y)\n",
    "        rm_histogram(x, y, descriptor)\n",
    "\n",
    "    x, y : the row vectors to be analyzed\n",
    "    descriptor : the descriptor of the histogram where:\n",
    "\n",
    "        descriptor = [lowerx, upperx, ncellx, lowery, uppery, ncelly]\n",
    "            lower? : the lowerbound of the ? dimension of the histogram\n",
    "            upper? : the upperbound of the dimension of the histogram\n",
    "            ncell? : the number of cells of the ? dimension of the histogram\n",
    "\n",
    "    :return: a tuple countaining a) the result (the 2d frequency histogram), b) descriptor (the descriptor used)\n",
    "\n",
    "    MATLAB function and logic by Rudy Moddemeijer\n",
    "    Translated to python by Tucker Cullen\n",
    "\n",
    "    \"\"\"\n",
    "\n",
    "    nargin = len(args)\n",
    "\n",
    "    if nargin < 1:\n",
    "        print(\"Usage: result = rm_histogram2(X, Y)\")\n",
    "        print(\"       result = rm_histogram2(X,Y)\")\n",
    "        print(\"Where: descriptor = [lowerX, upperX, ncellX; lowerY, upperY, ncellY\")\n",
    "\n",
    "    # some initial tests on the input arguments\n",
    "\n",
    "    x = np.array(args[0])  # make sure the imputs are in numpy array form\n",
    "    y = np.array(args[1])\n",
    "\n",
    "    xshape = x.shape\n",
    "    yshape = y.shape\n",
    "\n",
    "    lenx = xshape[0]  # how many elements are in the row vector\n",
    "    leny = yshape[0]\n",
    "\n",
    "    if len(xshape) != 1:  # makes sure x is a row vector\n",
    "        print(\"Error: invalid dimension of x\")\n",
    "        return\n",
    "\n",
    "    if len(yshape) != 1:\n",
    "        print(\"Error: invalid dimension of y\")\n",
    "        return\n",
    "\n",
    "    if lenx != leny:  # makes sure x and y have the same amount of elements\n",
    "        print(\"Error: unequal length of x and y\")\n",
    "        return\n",
    "\n",
    "    if nargin > 3:\n",
    "        print(\"Error: too many arguments\")\n",
    "        return\n",
    "\n",
    "    if nargin == 2:\n",
    "        minx = np.amin(x)\n",
    "        maxx = np.amax(x)\n",
    "        deltax = (maxx - minx) / (lenx - 1)\n",
    "        ncellx = math.ceil(lenx ** (1 / 3))\n",
    "\n",
    "        miny = np.amin(y)\n",
    "        maxy = np.amax(y)\n",
    "        deltay = (maxy - miny) / (leny - 1)\n",
    "        ncelly = ncellx\n",
    "        descriptor = np.array(\n",
    "            [[minx - deltax / 2, maxx + deltax / 2, ncellx], [miny - deltay / 2, maxy + deltay / 2, ncelly]])\n",
    "    else:\n",
    "        descriptor = args[2]\n",
    "\n",
    "    lowerx = descriptor[0, 0]  # python indexes one less then matlab indexes, since starts at zero\n",
    "    upperx = descriptor[0, 1]\n",
    "    ncellx = descriptor[0, 2]\n",
    "    lowery = descriptor[1, 0]\n",
    "    uppery = descriptor[1, 1]\n",
    "    ncelly = descriptor[1, 2]\n",
    "\n",
    "    # checking descriptor to make sure it is valid, otherwise print an error\n",
    "\n",
    "    if ncellx < 1:\n",
    "        print(\"Error: invalid number of cells in X dimension\")\n",
    "\n",
    "    if ncelly < 1:\n",
    "        print(\"Error: invalid number of cells in Y dimension\")\n",
    "\n",
    "    if upperx <= lowerx:\n",
    "        print(\"Error: invalid bounds in X dimension\")\n",
    "\n",
    "    if uppery <= lowery:\n",
    "        print(\"Error: invalid bounds in Y dimension\")\n",
    "\n",
    "    result = np.zeros([int(ncellx), int(ncelly)],\n",
    "                      dtype=int)  # should do the same thing as matlab: result(1:ncellx,1:ncelly) = 0;\n",
    "\n",
    "    xx = np.around((x - lowerx) / (upperx - lowerx) * ncellx + 1 / 2)\n",
    "    yy = np.around((y - lowery) / (uppery - lowery) * ncelly + 1 / 2)\n",
    "\n",
    "    xx = xx.astype(int)  # cast all the values in xx and yy to ints for use in indexing, already rounded in previous step\n",
    "    yy = yy.astype(int)\n",
    "\n",
    "    for n in range(0, lenx):\n",
    "        indexx = xx[n]\n",
    "        indexy = yy[n]\n",
    "\n",
    "        indexx -= 1  # adjust indices to start at zero, not one like in MATLAB\n",
    "        indexy -= 1\n",
    "\n",
    "        if indexx >= 0 and indexx <= ncellx - 1 and indexy >= 0 and indexy <= ncelly - 1:\n",
    "            result[indexx, indexy] = result[indexx, indexy] + 1\n",
    "\n",
    "    return result, descriptor\n",
    "\n",
    "def RM_information(*args):\n",
    "    \"\"\"\n",
    "    rm_information estimates the mutual information of the two stationary signals with\n",
    "    independent pairs of samples using various approaches:\n",
    "\n",
    "    takes in between 2 and 5 parameters:\n",
    "        rm_information(x, y)\n",
    "        rm_information(x, y, descriptor)\n",
    "        rm_information(x, y, descriptor, approach)\n",
    "        rm_information(x, y, descriptor, approach, base)\n",
    "\n",
    "    :returns estimate, nbias, sigma, descriptor\n",
    "\n",
    "        estimate : the mututal information estimate\n",
    "        nbias : n-bias of the estimate\n",
    "        sigma : the standard error of the estimate\n",
    "        descriptor : the descriptor of the histogram, see also rm_histogram2\n",
    "\n",
    "            lowerbound? : lowerbound of the histogram in the ? direction\n",
    "            upperbound? : upperbound of the histogram in the ? direction\n",
    "            ncell? : number of cells in the histogram in ? direction\n",
    "\n",
    "        approach : method used, choose from the following:\n",
    "\n",
    "            'unbiased'  : the unbiased estimate (default)\n",
    "            'mmse'      : minimum mean square estimate\n",
    "            'biased'    : the biased estimate\n",
    "\n",
    "        base : the base of the logarithm, default e\n",
    "\n",
    "    MATLAB function and logic by Rudy Moddemeijer\n",
    "    Translated to python by Tucker Cullen\n",
    "    \"\"\"\n",
    "\n",
    "    nargin = len(args)\n",
    "\n",
    "    if nargin < 1:\n",
    "        print(\"Takes in 2-5 parameters: \")\n",
    "        print(\"rm_information(x, y)\")\n",
    "        print(\"rm_information(x, y, descriptor)\")\n",
    "        print(\"rm_information(x, y, descriptor, approach)\")\n",
    "        print(\"rm_information(x, y, descriptor, approach, base)\")\n",
    "        print()\n",
    "\n",
    "        print(\"Returns a tuple containing: \")\n",
    "        print(\"estimate, nbias, sigma, descriptor\")\n",
    "        return\n",
    "\n",
    "    # some initial tests on the input arguments\n",
    "\n",
    "    x = np.array(args[0])  # make sure the imputs are in numpy array form\n",
    "    y = np.array(args[1])\n",
    "\n",
    "    xshape = x.shape\n",
    "    yshape = y.shape\n",
    "\n",
    "    lenx = xshape[0]  # how many elements are in the row vector\n",
    "    leny = yshape[0]\n",
    "\n",
    "    if len(xshape) != 1:  # makes sure x is a row vector\n",
    "        print(\"Error: invalid dimension of x\")\n",
    "        return\n",
    "\n",
    "    if len(yshape) != 1:\n",
    "        print(\"Error: invalid dimension of y\")\n",
    "        return\n",
    "\n",
    "    if lenx != leny:  # makes sure x and y have the same amount of elements\n",
    "        print(\"Error: unequal length of x and y\")\n",
    "        return\n",
    "\n",
    "    if nargin > 5:\n",
    "        print(\"Error: too many arguments\")\n",
    "        return\n",
    "\n",
    "    if nargin < 2:\n",
    "        print(\"Error: not enough arguments\")\n",
    "        return\n",
    "\n",
    "    # setting up variables depending on amount of inputs\n",
    "\n",
    "    if nargin == 2:\n",
    "        hist = RM_histogram2(x, y)  # call outside function from rm_histogram2.py\n",
    "        h = hist[0]\n",
    "        descriptor = hist[1]\n",
    "\n",
    "    if nargin >= 3:\n",
    "        hist = RM_histogram2(x, y, args[2])  # call outside function from rm_histogram2.py, args[2] represents the given descriptor\n",
    "        h = hist[0]\n",
    "        descriptor = hist[1]\n",
    "\n",
    "    if nargin < 4:\n",
    "        approach = 'unbiased'\n",
    "    else:\n",
    "        approach = args[3]\n",
    "\n",
    "    if nargin < 5:\n",
    "        base = math.e  # as in e = 2.71828\n",
    "    else:\n",
    "        base = args[4]\n",
    "\n",
    "    lowerboundx = descriptor[0, 0]  #not sure why most of these were included in the matlab script, most of them go unused\n",
    "    upperboundx = descriptor[0, 1]\n",
    "    ncellx = descriptor[0, 2]\n",
    "    lowerboundy = descriptor[1, 0]\n",
    "    upperboundy = descriptor[1, 1]\n",
    "    ncelly = descriptor[1, 2]\n",
    "\n",
    "    estimate = 0\n",
    "    sigma = 0\n",
    "    count = 0\n",
    "\n",
    "    # determine row and column sums\n",
    "\n",
    "    hy = np.sum(h, 0)\n",
    "    hx = np.sum(h, 1)\n",
    "\n",
    "    ncellx = ncellx.astype(int)\n",
    "    ncelly = ncelly.astype(int)\n",
    "\n",
    "    for nx in range(0, ncellx):\n",
    "        for ny in range(0, ncelly):\n",
    "            if h[nx, ny] != 0:\n",
    "                logf = math.log(h[nx, ny] / hx[nx] / hy[ny])\n",
    "            else:\n",
    "                logf = 0\n",
    "\n",
    "            count = count + h[nx, ny]\n",
    "            estimate = estimate + h[nx, ny] * logf\n",
    "            sigma = sigma + h[nx, ny] * (logf ** 2)\n",
    "\n",
    "    # biased estimate\n",
    "\n",
    "    estimate = estimate / count\n",
    "    sigma = math.sqrt((sigma / count - estimate ** 2) / (count - 1))\n",
    "    estimate = estimate + math.log(count)\n",
    "    nbias = (ncellx - 1) * (ncelly - 1) / (2 * count)\n",
    "\n",
    "    # conversion to unbiased estimate\n",
    "\n",
    "    if approach[0] == 'u':\n",
    "        estimate = estimate - nbias\n",
    "        nbias = 0\n",
    "\n",
    "        # conversion to minimum mse estimate\n",
    "\n",
    "    if approach[0] == 'm':\n",
    "        estimate = estimate - nbias\n",
    "        nbias = 0\n",
    "        lamda = (estimate ** 2) / ((estimate ** 2) + (sigma ** 2))\n",
    "        nbias = (1 - lamda) * estimate\n",
    "        estimate = lamda * estimate\n",
    "        sigma = lamda * sigma\n",
    "\n",
    "        # base transformations\n",
    "\n",
    "    estimate = estimate / math.log(base)\n",
    "    nbias = nbias / math.log(base)\n",
    "    sigma = sigma / math.log(base)\n",
    "\n",
    "    return estimate, nbias, sigma, descriptor\n"
   ]
  },
  {
   "cell_type": "code",
   "execution_count": 70,
   "metadata": {},
   "outputs": [
    {
     "data": {
      "text/plain": [
       "-0.010575122175197689"
      ]
     },
     "execution_count": 70,
     "metadata": {},
     "output_type": "execute_result"
    }
   ],
   "source": [
    "CO_RM_AMInformation(ts3, 15)"
   ]
  },
  {
   "cell_type": "code",
   "execution_count": 33,
   "metadata": {},
   "outputs": [],
   "source": [
    "from scipy import stats\n",
    "import scipy\n",
    "loc, scale = stats.norm.fit(ts1, method='MLE')"
   ]
  },
  {
   "cell_type": "code",
   "execution_count": 22,
   "metadata": {},
   "outputs": [
    {
     "data": {
      "text/plain": [
       "(-0.99999, 1.99999)"
      ]
     },
     "execution_count": 22,
     "metadata": {},
     "output_type": "execute_result"
    }
   ],
   "source": [
    "stats.uniform.fit(ts1, method=\"MLE\")"
   ]
  },
  {
   "cell_type": "code",
   "execution_count": 25,
   "metadata": {},
   "outputs": [
    {
     "data": {
      "text/plain": [
       "<scipy.stats._distn_infrastructure.rv_discrete_frozen at 0x14c270ed0>"
      ]
     },
     "execution_count": 25,
     "metadata": {},
     "output_type": "execute_result"
    }
   ],
   "source": [
    "stats.geom(0.1)"
   ]
  },
  {
   "cell_type": "code",
   "execution_count": 42,
   "metadata": {},
   "outputs": [
    {
     "data": {
      "text/plain": [
       "471.9063530156822"
      ]
     },
     "execution_count": 42,
     "metadata": {},
     "output_type": "execute_result"
    }
   ],
   "source": [
    "1/np.mean(ts1)"
   ]
  },
  {
   "cell_type": "code",
   "execution_count": 51,
   "metadata": {},
   "outputs": [],
   "source": [
    "import pandas as pd"
   ]
  },
  {
   "cell_type": "code",
   "execution_count": 58,
   "metadata": {},
   "outputs": [],
   "source": [
    "x = pd.Series(ts2)\n",
    "mean = x.mean()\n",
    "likelihoods = {} "
   ]
  },
  {
   "cell_type": "code",
   "execution_count": 59,
   "metadata": {},
   "outputs": [],
   "source": [
    "p = 1 / mean\n",
    "likelihoods['geometric'] = x.map(lambda val: stats.geom.pmf(val, p)).prod()"
   ]
  },
  {
   "cell_type": "code",
   "execution_count": 60,
   "metadata": {},
   "outputs": [
    {
     "data": {
      "text/plain": [
       "{'geometric': 1.0}"
      ]
     },
     "execution_count": 60,
     "metadata": {},
     "output_type": "execute_result"
    }
   ],
   "source": [
    "likelihoods"
   ]
  },
  {
   "cell_type": "code",
   "execution_count": 67,
   "metadata": {},
   "outputs": [
    {
     "data": {
      "text/plain": [
       "-0.006008764300000006"
      ]
     },
     "execution_count": 67,
     "metadata": {},
     "output_type": "execute_result"
    }
   ],
   "source": [
    "np.mean(ts2)"
   ]
  },
  {
   "cell_type": "code",
   "execution_count": 68,
   "metadata": {},
   "outputs": [
    {
     "data": {
      "text/plain": [
       "1.0060087643"
      ]
     },
     "execution_count": 68,
     "metadata": {},
     "output_type": "execute_result"
    }
   ],
   "source": [
    "1 - np.mean(ts2)"
   ]
  },
  {
   "cell_type": "code",
   "execution_count": 69,
   "metadata": {},
   "outputs": [
    {
     "data": {
      "text/plain": [
       "0.9978854164389565"
      ]
     },
     "execution_count": 69,
     "metadata": {},
     "output_type": "execute_result"
    }
   ],
   "source": [
    "1/(1+np.mean(ts1))"
   ]
  },
  {
   "cell_type": "code",
   "execution_count": 85,
   "metadata": {},
   "outputs": [],
   "source": [
    "import numpy as np \n",
    "\n",
    "def DN_OutlierTest(y, p = 2, justMe = None):\n",
    "    \"\"\"\n",
    "    DN_OutlierTest    How distributional statistics depend on distributional outliers.\n",
    "\n",
    "    Removes the p% of highest and lowest values in the time series (i.e., 2*p%\n",
    "    removed from the time series in total) and returns the ratio of either the\n",
    "    mean or the standard deviation of the time series, before and after this\n",
    "    transformation.\n",
    "\n",
    "    Parameters:\n",
    "    y (array-like): The input data vector\n",
    "    p (float): The percentage of values to remove beyond upper and lower percentiles (default: 2)\n",
    "    justMe (str, optional): Just returns a number:\n",
    "                            'mean' -- returns the mean of the middle portion of the data\n",
    "                            'std' -- returns the std of the middle portion of the data\n",
    "\n",
    "    Returns:\n",
    "    dict or float: A dictionary with 'mean' and 'std' keys, or a single value if justMe is specified\n",
    "    \"\"\"\n",
    "\n",
    "    # mean of the middle (100-2*p)% of the data\n",
    "    y = np.array(y)\n",
    "    lower_bound = np.percentile(y, p, method='hazen')\n",
    "    upper_bound = np.percentile(y, (100 - p), method='hazen')\n",
    "    \n",
    "    middle_portion = y[(y > lower_bound) & (y < upper_bound)]\n",
    "    \n",
    "    # Mean of the middle (100-2*p)% of the data\n",
    "    mean_middle = np.mean(middle_portion)\n",
    "    \n",
    "    # Std of the middle (100-2*p)% of the data\n",
    "    std_middle = np.std(middle_portion, ddof=1) / np.std(y, ddof=1)  # [although std(y) should be 1]\n",
    "    \n",
    "    if justMe is None:\n",
    "        return {'mean': mean_middle, 'std': std_middle}\n",
    "    elif justMe == 'mean':\n",
    "        return mean_middle\n",
    "    elif justMe == 'std':\n",
    "        return std_middle\n",
    "    else:\n",
    "        raise ValueError(f\"Unknown option '{justMe}'\")\n"
   ]
  },
  {
   "cell_type": "code",
   "execution_count": 8,
   "metadata": {},
   "outputs": [],
   "source": [
    "sin_func = lambda x, a1, b1, c1 : a1 * np.sin(b1*x+c1)"
   ]
  },
  {
   "cell_type": "code",
   "execution_count": 36,
   "metadata": {},
   "outputs": [],
   "source": [
    "from scipy.optimize import curve_fit"
   ]
  },
  {
   "cell_type": "code",
   "execution_count": 40,
   "metadata": {},
   "outputs": [],
   "source": [
    "from scipy import optimize\n",
    "def DT_IsSeasonal(y):\n",
    "\n",
    "    N = len(y)\n",
    "\n",
    "    th_fit = 0.3\n",
    "    th_ampl = 0.5\n",
    "\n",
    "    try:\n",
    "        params, params_covariance = optimize.curve_fit(test_func, np.arange(N), y, p0=[10, 13,600,0])\n",
    "    except:\n",
    "        return False\n",
    "\n",
    "    a,b,c,d = params\n",
    "\n",
    "\n",
    "\n",
    "    y_pred = a * np.sin(b * np.arange(N) + d) + c\n",
    "\n",
    "    SST = sum(np.power(y - np.mean(y),2))\n",
    "    SSr = sum(np.power(y - y_pred,2))\n",
    "\n",
    "    R = 1 - SSr / SST\n",
    "\n",
    "\n",
    "    if R > th_fit: #and (np.absolute(a) > th_ampl*.1*np.std(y)):\n",
    "        return True\n",
    "    else:\n",
    "        return False\n",
    "\n",
    "def test_func(x, a, b,c,d):\n",
    "    return a * np.sin(b * x + d) + c"
   ]
  },
  {
   "cell_type": "code",
   "execution_count": 41,
   "metadata": {},
   "outputs": [
    {
     "data": {
      "text/plain": [
       "False"
      ]
     },
     "execution_count": 41,
     "metadata": {},
     "output_type": "execute_result"
    }
   ],
   "source": [
    "DT_IsSeasonal(ts1)"
   ]
  },
  {
   "cell_type": "code",
   "execution_count": 44,
   "metadata": {},
   "outputs": [
    {
     "data": {
      "text/plain": [
       "[<matplotlib.lines.Line2D at 0x14e71eb10>]"
      ]
     },
     "execution_count": 44,
     "metadata": {},
     "output_type": "execute_result"
    },
    {
     "data": {
      "image/png": "[encoded data removed]",
      "text/plain": [
       "<Figure size 640x480 with 1 Axes>"
      ]
     },
     "metadata": {},
     "output_type": "display_data"
    }
   ],
   "source": [
    "plt.plot(ts1)"
   ]
  },
  {
   "cell_type": "code",
   "execution_count": 96,
   "metadata": {},
   "outputs": [],
   "source": [
    "import scipy.optimize\n",
    "sfunc = lambda x, a, b, c : a * np.sin(b*x + c)\n",
    "popt, pcov = scipy.optimize.curve_fit(sfunc, np.arange(len(ts1)), ts1, p0=[0.5, 0.0, -1.6e-07], method='trf')"
   ]
  },
  {
   "cell_type": "code",
   "execution_count": 98,
   "metadata": {},
   "outputs": [],
   "source": [
    "import numpy as np\n",
    "import warnings\n",
    "from PeripheryFunctions.BF_iszscored import BF_iszscored\n",
    "\n",
    "\n",
    "def EX_MovingThreshold(y, a = 1, b = 0.1):\n",
    "    \"\"\"\n",
    "    Moving threshold model for extreme events in a time series.\n",
    "\n",
    "    Inspired by an idea contained in:\n",
    "    \"Reactions to extreme events: Moving threshold model\"\n",
    "    Altmann et al., Physica A 364, 435--444 (2006)\n",
    "\n",
    "    This algorithm is based on this idea: it uses the occurrence of extreme events\n",
    "    to modify a hypothetical 'barrier' that classes new points as 'extreme' or not.\n",
    "    The barrier begins at sigma, and if the absolute value of the next data point\n",
    "    is greater than the barrier, the barrier is increased by a proportion 'a',\n",
    "    otherwise the position of the barrier is decreased by a proportion 'b'.\n",
    "\n",
    "    Parameters:\n",
    "    y (array-like): The input (z-scored) time series\n",
    "    a (float): The barrier jump parameter (in extreme event)\n",
    "    b (float): The barrier decay proportion (in absence of extreme event)\n",
    "\n",
    "    Returns:\n",
    "    dict: A dictionary containing various statistics about the barrier and kicks\n",
    "    \"\"\"\n",
    "\n",
    "    # Check that the time series is z-scored (just a warning)\n",
    "    if not BF_iszscored(y):\n",
    "        warnings.warn(\"The input time series should be z-scored!\")\n",
    "    \n",
    "    if b < 0 or b > 1:\n",
    "        raise ValueError('The decay proportion, b, should be between 0 and 1')\n",
    "    \n",
    "    N = len(y)\n",
    "    y = np.abs(y)  # extreme events defined in terms of absolute deviation from mean\n",
    "    q = np.zeros(N) # the barrier\n",
    "    kicks = np.zeros(N)\n",
    "\n",
    "    # Treat the barrier as knowing nothing about the time series, until it encounters it\n",
    "    # (except for the std! -- starts at 1)\n",
    "\n",
    "    # Initial condition of barrier q:\n",
    "    # The barrier will get smarter about the distribution but will decay to simulate 'forgetfulness' in the original model(!)\n",
    "\n",
    "    q[0] = 1  # begin at sigma\n",
    "\n",
    "    for i in range(1, N):\n",
    "        if y[i] > q[i-1]:  # Extreme event -- time series value more extreme than the barrier\n",
    "            q[i] = (1 + a) * y[i]  # increase barrier above the new observation by a factor a\n",
    "            kicks[i] = q[i] - q[i-1]  # The size of the increase\n",
    "        else:\n",
    "            q[i] = (1 - b) * q[i-1]  # Decrease barrier by proportion b\n",
    "\n",
    "    # Basic statistics on the barrier dynamics, q\n",
    "    out = {\n",
    "        'meanq': np.mean(q),\n",
    "        'medianq': np.median(q),\n",
    "        'iqrq': np.percentile(q, 75, method='hazen') - np.percentile(q, 25, method='hazen'),\n",
    "        'maxq': np.max(q),\n",
    "        'minq': np.min(q),\n",
    "        'stdq': np.std(q, ddof=1),\n",
    "        'meanqover': np.mean(q - y),\n",
    "        'pkick': np.sum(kicks) / (N - 1),  # probability of a kick\n",
    "    }\n",
    "\n",
    "    # Kicks (when the barrier is changed due to extreme event)\n",
    "    fkicks = np.argwhere(kicks > 0).flatten()\n",
    "    Ikicks = np.diff(fkicks)\n",
    "    out['stdkicks'] = np.std(Ikicks, ddof=1)\n",
    "    out['meankickf'] = np.mean(Ikicks)\n",
    "    out['mediankicksf'] = np.median(Ikicks)\n",
    "    \n",
    "\n",
    "    return out\n"
   ]
  },
  {
   "cell_type": "code",
   "execution_count": 103,
   "metadata": {},
   "outputs": [],
   "source": [
    "from PeripheryFunctions.BF_zscore import BF_zscore"
   ]
  },
  {
   "cell_type": "code",
   "execution_count": 105,
   "metadata": {},
   "outputs": [],
   "source": [
    "import numpy as np\n",
    "\n",
    "def MD_pNN(x):\n",
    "    \"\"\"\n",
    "    \"\"\"\n",
    "\n",
    "    diffx = np.diff(x)\n",
    "    N = len(x)\n",
    "\n",
    "    # Calculate pNNx percentage\n",
    "\n",
    "    Dx = np.abs(diffx) * 1000 # assume milliseconds as for RR intervals\n",
    "    pnns = np.array([5, 10, 20, 30, 40, 50, 60, 70, 80, 90, 100])\n",
    "\n",
    "    out = {} # dict used for output in place of MATLAB struct\n",
    "\n",
    "    for x in pnns:\n",
    "        out[\"pnn\" + str(x) ] = sum(Dx > x) / (N-1)\n",
    "\n",
    "    return out\n"
   ]
  },
  {
   "cell_type": "code",
   "execution_count": 162,
   "metadata": {},
   "outputs": [],
   "source": [
    "def SC_FluctAnal(x, q = 2, wtf = 'rsrange', tauStep = 1, k = 1, lag = None, logInc = True):\n",
    "    \"\"\"\n",
    "    \"\"\"\n",
    "\n",
    "    N = len(x)\n",
    "\n",
    "    # Compute integrated sequence\n",
    "    if lag is None or lag == 1:\n",
    "        y = np.cumsum(x)\n",
    "    else:\n",
    "        y = np.cumsum(x[::lag])\n",
    "    \n",
    "    # Perform scaling over a range of tau, up to a fifth the time-series length\n",
    "    if logInc:\n",
    "        taur = np.unique(np.ceil(np.exp(np.linspace(np.log(5), np.log(int(np.floor(N/2))), tauStep+1))))\n",
    "        taur = taur[1:]\n",
    "    else:\n",
    "        taur = np.arange(5, int(np.floor(N/2)) + 1, tauStep)\n",
    "    ntau = len(taur)\n",
    "\n",
    "    return taur"
   ]
  },
  {
   "cell_type": "code",
   "execution_count": 165,
   "metadata": {},
   "outputs": [
    {
     "data": {
      "text/plain": [
       "array([  8.,  13.,  20.,  32.,  50.,  80., 126., 200., 316., 500.])"
      ]
     },
     "execution_count": 165,
     "metadata": {},
     "output_type": "execute_result"
    }
   ],
   "source": [
    "taur = SC_FluctAnal(ts1, tauStep=10)\n",
    "taur"
   ]
  },
  {
   "cell_type": "code",
   "execution_count": 171,
   "metadata": {},
   "outputs": [],
   "source": [
    "import numpy as np\n",
    "\n",
    "def MD_polvar(x, d = 1, D = 6):\n",
    "    \"\"\"\n",
    "    The POLVARd measure of a time series.\n",
    "    \"\"\"\n",
    "\n",
    "    dx = np.abs(np.diff(x)) # abs diff in consecutive values of the time series\n",
    "    N = len(dx) # number of diffs in the input time series\n",
    "\n",
    "    # binary representation of time series based on consecutive changes being greater than d/1000...\n",
    "    xsym = dx >= d # consec. diffs exceed some threshold, d\n",
    "    zseq = np.zeros(D)\n",
    "    oseq = np.ones(D)\n",
    "\n",
    "    # search for D consecutive zeros/ones\n",
    "    i = 1\n",
    "    pc = 0\n",
    "\n",
    "    # seqcnt = 0\n",
    "    while i <= (N-D):\n",
    "        xseq = xsym[i:(i+D)]\n",
    "        if (np.sum(xseq == zseq) == D) or (np.sum(xseq == oseq) == D):\n",
    "            pc += 1\n",
    "            i += D\n",
    "        else:\n",
    "            i += 1\n",
    "    \n",
    "    p = pc / N\n",
    "\n",
    "    return p \n"
   ]
  },
  {
   "cell_type": "code",
   "execution_count": 174,
   "metadata": {},
   "outputs": [
    {
     "data": {
      "text/plain": [
       "0.022022022022022022"
      ]
     },
     "execution_count": 174,
     "metadata": {},
     "output_type": "execute_result"
    }
   ],
   "source": [
    "MD_polvar(ts3)"
   ]
  },
  {
   "cell_type": "code",
   "execution_count": 179,
   "metadata": {},
   "outputs": [
    {
     "data": {
      "text/plain": [
       "array([207,  90,  72,  65,  63,  64,  68,  76,  90, 205])"
      ]
     },
     "execution_count": 179,
     "metadata": {},
     "output_type": "execute_result"
    }
   ],
   "source": [
    "N = len(ts1)\n",
    "hist, edges = np.histogram(ts1, 10)\n"
   ]
  },
  {
   "cell_type": "code",
   "execution_count": 192,
   "metadata": {},
   "outputs": [
    {
     "data": {
      "text/plain": [
       "31.622776601683793"
      ]
     },
     "execution_count": 192,
     "metadata": {},
     "output_type": "execute_result"
    }
   ],
   "source": [
    "np.sqrt(N)"
   ]
  },
  {
   "cell_type": "code",
   "execution_count": 196,
   "metadata": {},
   "outputs": [
    {
     "data": {
      "text/plain": [
       "32"
      ]
     },
     "execution_count": 196,
     "metadata": {},
     "output_type": "execute_result"
    }
   ],
   "source": [
    "int(np.ceil(np.sqrt(N)))"
   ]
  },
  {
   "cell_type": "code",
   "execution_count": 195,
   "metadata": {},
   "outputs": [
    {
     "data": {
      "text/plain": [
       "8.695652173913043"
      ]
     },
     "execution_count": 195,
     "metadata": {},
     "output_type": "execute_result"
    }
   ],
   "source": [
    "hist_counts_sqrt, _ = np.histogram(ts1, bins=int(np.ceil(np.sqrt(N))))\n",
    "N/np.max(hist_counts_sqrt)"
   ]
  },
  {
   "cell_type": "code",
   "execution_count": 202,
   "metadata": {},
   "outputs": [
    {
     "data": {
      "text/plain": [
       "33"
      ]
     },
     "execution_count": 202,
     "metadata": {},
     "output_type": "execute_result"
    }
   ],
   "source": [
    "len(np.histogram_bin_edges(ts1, bins='sqrt'))"
   ]
  },
  {
   "cell_type": "code",
   "execution_count": 216,
   "metadata": {},
   "outputs": [],
   "source": [
    "import numpy as np\n",
    "\n",
    "def MD_rawHRVmeas(x):\n",
    "\n",
    "    N = len(x)\n",
    "    out = {}\n",
    "\n",
    "    # triangular histogram index\n",
    "    hist_counts10, _ = np.histogram(x, 10)\n",
    "    out['tri10'] = N/np.max(hist_counts10)\n",
    "    hist_counts20, _ = np.histogram(x, 20)\n",
    "    out['tri20'] = N/np.max(hist_counts20)\n",
    "    hist_counts_sqrt, _ = np.histogram(x, bins=int(np.ceil(np.sqrt(N))))\n",
    "    out['trisqrt'] = N/np.max(hist_counts_sqrt)\n",
    "\n",
    "    # Poincare plot measures\n",
    "    diffx = np.diff(x)\n",
    "    out['SD1'] = 1/np.sqrt(2) * np.std(diffx, ddof=1) * 1000\n",
    "    out['SD2'] = np.sqrt(2 * np.var(x, ddof=1) - (1/2) * np.std(diffx, ddof=1)**2) * 1000\n",
    "\n",
    "    return out\n"
   ]
  },
  {
   "cell_type": "code",
   "execution_count": 218,
   "metadata": {},
   "outputs": [
    {
     "data": {
      "text/plain": [
       "{'tri10': 4.830917874396135,\n",
       " 'tri20': 6.896551724137931,\n",
       " 'trisqrt': 8.695652173913043,\n",
       " 'SD1': 99.72437694213063,\n",
       " 'SD2': 996.951312902879}"
      ]
     },
     "execution_count": 218,
     "metadata": {},
     "output_type": "execute_result"
    }
   ],
   "source": [
    "MD_rawHRVmeas(ts1)"
   ]
  },
  {
   "cell_type": "code",
   "execution_count": 219,
   "metadata": {},
   "outputs": [],
   "source": [
    "import numpy as np\n",
    "from PeripheryFunctions.BF_MakeBuffer import BF_MakeBuffer\n",
    "from Operations.CO_FirstCrossing import CO_FirstCrossing\n",
    "\n",
    "def BF_PreProcess(y, preProcessHow = None):\n",
    "\n",
    "    if preProcessHow is not None:\n",
    "        if preProcessHow == 'diff1':\n",
    "            y = np.diff(y)\n",
    "        elif preProcessHow == 'rescale_tau':\n",
    "            tau = CO_FirstCrossing(y, 'ac', 0, 'discrete')\n",
    "            y_buffer = BF_MakeBuffer(y, tau)\n",
    "            y = np.mean(y_buffer, 1)\n",
    "        else:\n",
    "            raise ValueError(f\"Unknown preprocessing setting: {preProcessHow}\")    \n",
    "    return y\n"
   ]
  },
  {
   "cell_type": "code",
   "execution_count": 224,
   "metadata": {},
   "outputs": [],
   "source": [
    "from pyentrp import entropy as ent"
   ]
  },
  {
   "cell_type": "code",
   "execution_count": 240,
   "metadata": {},
   "outputs": [
    {
     "data": {
      "text/plain": [
       "array([1.13297372, 0.18740919, 0.23045563, 0.16192659])"
      ]
     },
     "execution_count": 240,
     "metadata": {},
     "output_type": "execute_result"
    }
   ],
   "source": [
    "ent.sample_entropy(ts1, 4, 0.4)"
   ]
  },
  {
   "cell_type": "code",
   "execution_count": 248,
   "metadata": {},
   "outputs": [],
   "source": [
    "from pyentrp import entropy as ent\n",
    "import numpy as np\n",
    "from PeripheryFunctions.BF_PreProcess import BF_PreProcess\n",
    "\n",
    "\n",
    "def EN_SampEN(y, M = 2, r = None, preProcessHow = None):\n",
    "    \"\"\"\n",
    "    Parameters:\n",
    "    -----------\n",
    "    y :\n",
    "        the input time series\n",
    "    M : \n",
    "        the embedding dimension\n",
    "    r : \n",
    "        the threshold\n",
    "    preProcessHow:\n",
    "      (i) 'diff1', incremental differencing (as per 'Control Entropy').\n",
    "    \"\"\"\n",
    "\n",
    "    if r is None:\n",
    "        r = 0.1 * np.std(y, ddof=1)\n",
    "    if preProcessHow is not None:\n",
    "        y = BF_PreProcess(y, preProcessHow)\n",
    "    \n",
    "    out = {}\n",
    "    sampEn = ent.sample_entropy(y, M+1, r)\n",
    "    # compute outputs \n",
    "    for i in range(len(sampEn)):\n",
    "        out[f\"sampen{i}\"] = sampEn[i]\n",
    "        # Quadratic sample entropy (QSE), Lake (2006):\n",
    "        # (allows better comparison across r values)\n",
    "        out[f\"quadSampEn{i}\"] = sampEn[i] + np.log(2*r)\n",
    "    \n",
    "    if M > 1:\n",
    "        out['meanchsampen'] = np.mean(np.diff(sampEn))\n",
    "\n",
    "    return out\n"
   ]
  },
  {
   "cell_type": "code",
   "execution_count": 249,
   "metadata": {},
   "outputs": [
    {
     "data": {
      "text/plain": [
       "{'sampen0': 1.1329737161854208,\n",
       " 'quadSampEn0': 0.909830164871211,\n",
       " 'sampen1': 0.18740919282421611,\n",
       " 'quadSampEn1': -0.035734358489993595,\n",
       " 'sampen2': 0.23045563071148165,\n",
       " 'quadSampEn2': 0.007312079397271937,\n",
       " 'sampen3': 0.16192658822527484,\n",
       " 'quadSampEn3': -0.06121696308893487,\n",
       " 'meanchsampen': -0.32368237598671534}"
      ]
     },
     "execution_count": 249,
     "metadata": {},
     "output_type": "execute_result"
    }
   ],
   "source": [
    "EN_SampEN(ts1, 3, 0.4)"
   ]
  },
  {
   "cell_type": "code",
   "execution_count": 256,
   "metadata": {},
   "outputs": [],
   "source": [
    "from Operations.EN_SampEn import EN_SampEn\n",
    "from PeripheryFunctions.BF_PreProcess import BF_PreProcess\n",
    "from PeripheryFunctions.BF_zscore import BF_zscore\n",
    "from PeripheryFunctions.BF_MakeBuffer import BF_MakeBuffer\n",
    "import numpy as np \n",
    "\n",
    "def EN_mse(y, scaleRange=np.arange(1, 11), m = 2, r = 0.15, preProcessHow = None):\n",
    "    \"\"\"\n",
    "    \"\"\"\n",
    "    minTsLength = 20\n",
    "    numScales = len(scaleRange)\n",
    "\n",
    "    if preProcessHow is None:\n",
    "        y = BF_zscore(BF_PreProcess(y, preProcessHow))\n",
    "    \n",
    "    # Coarse-graining across scales\n",
    "    y_cg = []\n",
    "    for i in range(numScales):\n",
    "        buffer_size = scaleRange[i]\n",
    "        y_buffer = BF_MakeBuffer(y, buffer_size)\n",
    "        y_cg.append(np.mean(y_buffer, axis=1))\n",
    "    \n",
    "    # Run sample entropy for each m and r value at each scale\n",
    "    samp_ens = np.zeros(numScales)\n",
    "    for si in range(numScales):\n",
    "        if len(y_cg[si]) >= minTsLength:\n",
    "            samp_en_struct = EN_SampEn(y_cg[si], m, r)\n",
    "            samp_ens[si] = samp_en_struct[f'sampen{m}']\n",
    "        else:\n",
    "            samp_ens[si] = np.nan\n",
    "\n",
    "    # Outputs: multiscale entropy\n",
    "    if np.all(np.isnan(samp_ens)):\n",
    "        if preProcessHow:\n",
    "            pp_text = f\"after {preProcessHow} pre-processing\"\n",
    "        else:\n",
    "            pp_text = \"\"\n",
    "        print(f\"Warning: Not enough samples ({len(y)} {pp_text}) to compute SampEn at multiple scales\")\n",
    "        return {'out': np.nan}\n",
    "\n",
    "    # Output raw values\n",
    "    out = {f'sampen_s{scaleRange[i]}': samp_ens[i] for i in range(numScales)}\n",
    "\n",
    "     # Summary statistics of the variation\n",
    "    max_samp_en = np.nanmax(samp_ens)\n",
    "    max_ind = np.nanargmax(samp_ens)\n",
    "    min_samp_en = np.nanmin(samp_ens)\n",
    "    min_ind = np.nanargmin(samp_ens)\n",
    "\n",
    "    out.update({\n",
    "        'maxSampEn': max_samp_en,\n",
    "        'maxScale': scaleRange[max_ind],\n",
    "        'minSampEn': min_samp_en,\n",
    "        'minScale': scaleRange[min_ind],\n",
    "        'meanSampEn': np.nanmean(samp_ens),\n",
    "        'stdSampEn': np.nanstd(samp_ens,ddof=1),\n",
    "        'cvSampEn': np.nanstd(samp_ens, ddof=1) / np.nanmean(samp_ens),\n",
    "        'meanch': np.nanmean(np.diff(samp_ens))\n",
    "    })\n",
    "\n",
    "    return out\n"
   ]
  },
  {
   "cell_type": "code",
   "execution_count": 260,
   "metadata": {},
   "outputs": [],
   "source": [
    "import numpy as np\n",
    "import warnings\n",
    "#import numba\n",
    "\n",
    "#@numba.jit(nopython=True,parallel=True)\n",
    "def EN_SampEn2(x,m=2,r=.2,scale=True):\n",
    "    warnings.filterwarnings('ignore')\n",
    "\n",
    "    if scale:\n",
    "\n",
    "        r = np.std(x,ddof = 1) * r\n",
    "\n",
    "    print(r)\n",
    "\n",
    "    templates = make_templates(x,m)\n",
    "    #print(templates)\n",
    "    A = 0\n",
    "    B = 0\n",
    "\n",
    "    for i in range(templates.shape[0]):\n",
    "\n",
    "        template = templates[i,:]\n",
    "\n",
    "        A = A + np.sum(np.amax(np.absolute(templates-template), axis=1) < r) -1\n",
    "\n",
    "        B = B + np.sum(np.amax(np.absolute(templates[:,0:m]-template[0:m]),axis=1) < r) - 1\n",
    "\n",
    "    if B == 0:\n",
    "\n",
    "        return {'Sample Entropy':np.nan,\"Quadratic Entropy\":np.nan}\n",
    "\n",
    "\n",
    "    return {'Sample Entropy':- np.log(A/B),\"Quadratic Entropy\": - np.log(A/B) + np.log(2*r)}\n",
    "\n",
    "#@numba.jit(nopython=True,parallel=True)\n",
    "def make_templates(x,m):\n",
    "\n",
    "    N = int(len(x) - (m))\n",
    "\n",
    "    templates = np.zeros((N,m+1))\n",
    "\n",
    "    for i in range(N):\n",
    "\n",
    "        templates[i,:] = x[i:i+m+1]\n",
    "\n",
    "    return templates\n",
    "\n",
    "\n",
    "\n",
    "\n",
    "# def SampEn(U, m = 2, r = .2):\n",
    "#\n",
    "#     r = r * np.log(U)\n",
    "#\n",
    "#     def _maxdist(x_i, x_j):\n",
    "#\n",
    "#         result = max([abs(ua - va) for ua, va in zip(x_i, x_j)])\n",
    "#\n",
    "#         return result\n",
    "#\n",
    "#\n",
    "#     def _phi(m):\n",
    "#\n",
    "#         x = [[U[j] for j in range(i, i + m - 1 + 1)] for i in range(N - m + 1)]\n",
    "#\n",
    "#         C = 0\n",
    "#\n",
    "#         for i in range(len(x)):\n",
    "#\n",
    "#             for j in range(len(x)):\n",
    "#\n",
    "#                 if i == j:\n",
    "#\n",
    "#                     continue\n",
    "#\n",
    "#                 C += (_maxdist(x[i], x[j]) <= r)\n",
    "#\n",
    "#         return C\n",
    "#\n",
    "#\n",
    "#     N = len(U)\n",
    "#\n",
    "#     return -np.log(_phi(m+1) / _phi(m))\n",
    "\n",
    "# def EN_SampEn(y,M = 2,r = 0,pre = ''):\n",
    "#     if r == 0:\n",
    "#         r = .1*np.std(y)\n",
    "#     else:\n",
    "#         r = r*np.std(y)\n",
    "#     M = M + 1\n",
    "#     N = len(y)\n",
    "#     print('hi')\n",
    "#     lastrun = np.zeros(N)\n",
    "#     run = np.zeros(N)\n",
    "#     A = np.zeros(M)\n",
    "#     B = np.zeros(M)\n",
    "#     p = np.zeros(M)\n",
    "#     e = np.zeros(M)\n",
    "#\n",
    "#     for i in range(1,N):\n",
    "#         y1 = y[i-1]\n",
    "#\n",
    "#         for jj in range(1,N-i + 1):\n",
    "#\n",
    "#             j = i + jj - 1\n",
    "#\n",
    "#             if np.absolute(y[j] - y1) < r:\n",
    "#\n",
    "#                 run[jj] = lastrun[jj] + 1\n",
    "#                 M1 = min(M,run[jj])\n",
    "#                 for m in range(int(M1)):\n",
    "#                     A[m] = A[m] + 1\n",
    "#                     if j < N:\n",
    "#                         B[m] = B[m] + 1\n",
    "#             else:\n",
    "#                 run[jj] = 0\n",
    "#         for j in range(N-1):\n",
    "#             lastrun[j] = run[j]\n",
    "#\n",
    "#     NN = N * (N - 1) / 2\n",
    "#     p[0] = A[0] / NN\n",
    "#     e[0] = - np.log(p[0])\n",
    "#     for m in range(1,int(M)):\n",
    "#         p[m] = A[m] / B[m-1]\n",
    "#         e[m] = -np.log(p[m])\n",
    "#     i = 0\n",
    "#     # out = {'sampen':np.zeros(len(e)),'quadSampEn':np.zeros(len(e))}\n",
    "#     # for ent in e:\n",
    "#     #     quaden1 = ent + np.log(2*r)\n",
    "#     #     out['sampen'][i] = ent\n",
    "#     #     out['quadSampEn'][i] = quaden1\n",
    "#     #     i = i + 1\n",
    "#     out = {'Sample Entropy':e[1],'Quadratic Entropy':e[1] + np.log(2*r)}\n",
    "#     return out"
   ]
  },
  {
   "cell_type": "code",
   "execution_count": 285,
   "metadata": {},
   "outputs": [],
   "source": [
    "import numpy as np\n",
    "from Operations.CO_AutoCorr import CO_AutoCorr\n",
    "from Operations.CO_FirstCrossing import CO_FirstCrossing\n",
    "\n",
    "def PH_ForcePotential(y, whatPotential = 'dblwell', params = None):\n",
    "    \"\"\"\n",
    "    Couples the values of the time series to a dynamical system.\n",
    "\n",
    "    The input time series forces a particle in the given potential well.\n",
    "\n",
    "    Args:\n",
    "    y (array-like): The input time series.\n",
    "    what_potential (str): The potential function to simulate:\n",
    "                          'dblwell' (a double well potential function) or\n",
    "                          'sine' (a sinusoidal potential function).\n",
    "    params (list): The parameters for simulation, should be in the form:\n",
    "                   [alpha, kappa, deltat]\n",
    "\n",
    "    Returns:\n",
    "    dict: Statistics summarizing the trajectory of the simulated particle.\n",
    "    \"\"\"\n",
    "    if params is None:\n",
    "        if whatPotential == 'dblwell':\n",
    "            params = [2, 0.1, 0.1]\n",
    "        elif whatPotential == 'sine':\n",
    "            params = [1, 1, 1]\n",
    "        else:\n",
    "            ValueError(f\"Unknown system {whatPotential}\")\n",
    "    else:\n",
    "        # check params\n",
    "        if not isinstance(params, list):\n",
    "            raise ValueError(\"Expected list of parameters.\")\n",
    "        else:\n",
    "            if len(params) != 3:\n",
    "                raise ValueError(\"Expected 3 parameters.\")\n",
    "    \n",
    "    N = len(y) # length of the time series\n",
    "\n",
    "    alpha, kappa, deltat = params\n",
    "\n",
    "    # specify potential function\n",
    "    if whatPotential == 'sine':\n",
    "        V = lambda x : -np.cos(x/alpha)\n",
    "        F = lambda x : np.sin(x/alpha)/alpha\n",
    "    elif whatPotential == 'dblwell':\n",
    "        F = lambda x : -x**3 + alpha**2 * x\n",
    "        V = lambda x : x**4 / 4 - alpha**2 * x**2 / 2\n",
    "    else:\n",
    "        raise ValueError(f\"Unknown potential function {whatPotential}\")\n",
    "    \n",
    "    x = np.zeros(N) # position\n",
    "    v = np.zeros(N) # velocity\n",
    "\n",
    "    for i in range(1, N):\n",
    "        x[i] = x[i-1] + v[i-1]*deltat + (F(x[i-1]) + y[i-1] - kappa*v[i-1])*deltat**2\n",
    "        v[i] = v[i-1] + (F(x[i-1]) + y[i-1] - kappa*v[i-1])*deltat\n",
    "\n",
    "    # check the trajectory didn't blow out\n",
    "    if np.isnan(x[-1]) or np.abs(x[-1]) > 1E10:\n",
    "        return np.NaN\n",
    "    \n",
    "    # Output some basic features of the trajectory\n",
    "    out = {}\n",
    "    out['mean'] = np.mean(x) # mean position\n",
    "    out['median'] = np.median(x) # median position\n",
    "    out['std'] = np.std(x, ddof=1) # std. dev.\n",
    "    out['range'] = np.ptp(x)\n",
    "    out['proppos'] = np.sum(x > 0)/N\n",
    "    out['pcross'] = np.sum(x[:-1] * x[1:] < 0) / (N - 1)\n",
    "    out['ac1'] = np.abs(CO_AutoCorr(x, 1, 'Fourier')[0])\n",
    "    out['ac10'] = np.abs(CO_AutoCorr(x, 10, 'Fourier')[0])\n",
    "    out['ac50'] = np.abs(CO_AutoCorr(x, 50, 'Fourier')[0])\n",
    "    out['tau'] = CO_FirstCrossing(x, 'ac', 0, 'continuous')\n",
    "    out['finaldev'] = np.abs(x[-1]) # final position\n",
    "\n",
    "    # additional outputs for dbl well\n",
    "    if whatPotential == 'dblwell':\n",
    "        out['pcrossup'] = np.sum((x[:-1] - alpha) * (x[1:] - alpha) < 0) / (N - 1)\n",
    "        out['pcrossdown'] = np.sum((x[:-1] + alpha) * (x[1:] + alpha) < 0) / (N - 1)\n",
    "\n",
    "    return out\n"
   ]
  },
  {
   "cell_type": "code",
   "execution_count": 286,
   "metadata": {},
   "outputs": [
    {
     "data": {
      "text/plain": [
       "{'mean': 3.134421323722765,\n",
       " 'median': 3.1379719607268908,\n",
       " 'std': 0.8738893219198849,\n",
       " 'range': 4.415693591342526,\n",
       " 'proppos': 0.999,\n",
       " 'pcross': 0.0,\n",
       " 'ac1': 0.9694821772518506,\n",
       " 'ac10': 0.40580882450000605,\n",
       " 'ac50': 0.7557857723104995,\n",
       " 'tau': 7.764238932851466,\n",
       " 'finaldev': 1.876886533672267}"
      ]
     },
     "execution_count": 286,
     "metadata": {},
     "output_type": "execute_result"
    }
   ],
   "source": [
    "PH_ForcePotential(ts1, 'sine')"
   ]
  },
  {
   "cell_type": "code",
   "execution_count": 290,
   "metadata": {},
   "outputs": [],
   "source": [
    "from pyentrp import entropy as ent\n",
    "import numpy as np\n",
    "from PeripheryFunctions.BF_PreProcess import BF_PreProcess\n",
    "\n",
    "def EN_SampEn1(y, M = 2, r = None, preProcessHow = None):\n",
    "    \"\"\"\n",
    "    Adaptation of the SampEn function in MATLAB using the pyEntropy\n",
    "    toolkit as a stand-in for the original physionet toolkit.\n",
    "    Gives similar results to the MATLAB implementation, but not\n",
    "    exactly equivalent. \n",
    "\n",
    "    Parameters:\n",
    "    -----------\n",
    "    y (array-like):\n",
    "        the input time series\n",
    "    M (int, optional): \n",
    "        the embedding dimension\n",
    "    r (float, optional): \n",
    "        the threshold\n",
    "    preProcessHow (str, optional):\n",
    "      (i) 'diff1', incremental differencing (as per 'Control Entropy').\n",
    "    \n",
    "    Returns:\n",
    "    --------\n",
    "    dict :\n",
    "        A dictionary of sample entropy and quadratic sample entropy\n",
    "    \"\"\"\n",
    "\n",
    "    if r is None:\n",
    "        r = 0.1 * np.std(y, ddof=1)\n",
    "    if preProcessHow is not None:\n",
    "        y = BF_PreProcess(y, preProcessHow)\n",
    "    \n",
    "    out = {}\n",
    "    sampEn = ent.sample_entropy(y, M+1, r)\n",
    "    # compute outputs \n",
    "    for i in range(len(sampEn)):\n",
    "        out[f\"sampen{i}\"] = sampEn[i]\n",
    "        # Quadratic sample entropy (QSE), Lake (2006):\n",
    "        # (allows better comparison across r values)\n",
    "        out[f\"quadSampEn{i}\"] = sampEn[i] + np.log(2*r)\n",
    "    \n",
    "    if M > 1:\n",
    "        out['meanchsampen'] = np.mean(np.diff(sampEn))\n",
    "\n",
    "    return out\n"
   ]
  },
  {
   "cell_type": "code",
   "execution_count": 324,
   "metadata": {},
   "outputs": [],
   "source": [
    "import numpy as np\n",
    "import warnings\n",
    "from PeripheryFunctions.BF_iszscored import BF_iszscored\n",
    "from PeripheryFunctions.BF_SimpleBinner import BF_SimpleBinner\n",
    "\n",
    "def DN_HistogramAsymmetry(y, numBins = 10, doSimple = True):\n",
    "    \"\"\"\n",
    "    \"\"\"\n",
    "    if not BF_iszscored(y):\n",
    "        warnings.warn(\"DN_HistogramAsymmetry assumes a z-scored (or standardised) input\")\n",
    "    \n",
    "    # compute the histogram seperately from positive and negative values in the data\n",
    "    yPos = y[y > 0] # filter out the positive vals\n",
    "    yNeg = y[y < 0]\n",
    "\n",
    "    if doSimple:\n",
    "        countsPos, binEdgesPos = BF_SimpleBinner(yPos, numBins)\n",
    "        countsNeg, binEdgesNeg = BF_SimpleBinner(yNeg, numBins)\n",
    "    else:\n",
    "        countsPos, binEdgesPos = np.histogram(yPos, numBins)\n",
    "        countsNeg, binEdgesNeg = np.histogram(yNeg, numBins)\n",
    "    \n",
    "    # normalise by the total counts\n",
    "    NnonZero = np.sum(y!=0)\n",
    "    pPos = countsPos/NnonZero\n",
    "    pNeg = countsNeg/NnonZero\n",
    "\n",
    "    # compute bin centers from bin edges\n",
    "    binCentersPos = np.mean([binEdgesPos[:-1], binEdgesPos[1:]], axis=0)\n",
    "    binCentersNeg = np.mean([binEdgesNeg[:-1], binEdgesNeg[1:]], axis=0)\n",
    "\n",
    "    # Histogram counts and overall density differences\n",
    "    out = {}\n",
    "    out['densityDiff'] = np.sum(y > 0) - np.sum(y < 0)  # measure of asymmetry about the mean\n",
    "    out['modeProbPos'] = np.max(pPos)\n",
    "    out['modeProbNeg'] = np.max(pNeg)\n",
    "    out['modeDiff'] = out['modeProbPos'] - out['modeProbNeg']\n",
    "\n",
    "    # Mean position of maximums (if multiple)\n",
    "    out['posMode'] = np.mean(binCentersPos[pPos == out['modeProbPos']])\n",
    "    out['negMode'] = np.mean(binCentersNeg[pNeg == out['modeProbNeg']])\n",
    "    out['modeAsymmetry'] = out['posMode'] + out['negMode']\n",
    "\n",
    "    return out\n",
    "    "
   ]
  },
  {
   "cell_type": "code",
   "execution_count": 325,
   "metadata": {},
   "outputs": [
    {
     "data": {
      "text/plain": [
       "{'densityDiff': -22,\n",
       " 'modeProbPos': 0.094,\n",
       " 'modeProbNeg': 0.096,\n",
       " 'modeDiff': -0.0020000000000000018,\n",
       " 'posMode': 0.6125897250000001,\n",
       " 'negMode': -0.5567158999999998,\n",
       " 'modeAsymmetry': 0.055873825000000266}"
      ]
     },
     "execution_count": 325,
     "metadata": {},
     "output_type": "execute_result"
    }
   ],
   "source": [
    "DN_HistogramAsymmetry(ts2)"
   ]
  },
  {
   "cell_type": "code",
   "execution_count": 339,
   "metadata": {},
   "outputs": [],
   "source": [
    "import numpy as np\n",
    "from PeripheryFunctions.BF_SimpleBinner import BF_SimpleBinner\n",
    "\n",
    "def DN_HistogramMode(y, numBins = 10, doSimple = True):\n",
    "    \"\"\"\n",
    "    Mode of a data vector.\n",
    "    Measures the mode of the data vector using histograms with a given number\n",
    "    of bins.\n",
    "\n",
    "    Parameters:\n",
    "    -----------\n",
    "    y : array-like\n",
    "        the input data vector\n",
    "    numBins : int, optional\n",
    "        the number of bins to use in the histogram\n",
    "    doSimple : bool, optional\n",
    "        whether to use a simple binning method (linearly spaced bins)\n",
    "\n",
    "    Returns:\n",
    "    --------\n",
    "    out : float\n",
    "        the mode of the data vector using histograms with numBins bins. \n",
    "    \"\"\"\n",
    "\n",
    "    if isinstance(numBins, int):\n",
    "        if doSimple:\n",
    "            N, binEdges = BF_SimpleBinner(y, numBins)\n",
    "        else:\n",
    "            # this gives a different result to MATLAB for the same number of bins \n",
    "            # better to use the simple binner (as set by default)\n",
    "            N, binEdges = np.histogram(y, bins=numBins)\n",
    "    elif isinstance(numBins, str):\n",
    "        # NOTE: auto doesn't yield the same number of bins as MATLAB's auto, despite both using the same binning algs. \n",
    "        bin_edges = np.histogram_bin_edges(y, bins=numBins)\n",
    "        N, binEdges = np.histogram(y, bins=bin_edges)\n",
    "    else:\n",
    "        raise ValueError(\"Unknown format for numBins\")\n",
    "\n",
    "    # compute bin centers from bin edges\n",
    "    binCenters = np.mean([binEdges[:-1], binEdges[1:]], axis=0)\n",
    "\n",
    "    # mean position of maximums (if multiple)\n",
    "    out = np.mean(binCenters[N == np.max(N)])\n",
    "\n",
    "    return out\n"
   ]
  },
  {
   "cell_type": "code",
   "execution_count": 341,
   "metadata": {},
   "outputs": [],
   "source": [
    "from statsmodels.tsa.arima_model import ARIMA"
   ]
  },
  {
   "cell_type": "code",
   "execution_count": 416,
   "metadata": {},
   "outputs": [],
   "source": [
    "import numpy as np\n",
    "\n",
    "\n",
    "def PN_sampenc(y, M = 1, r = None, justM = False):\n",
    "    \"\"\"\n",
    "    \"\"\"\n",
    "    if r is None:\n",
    "        r = 0.1 * np.std(y, ddof=1)\n",
    "    \n",
    "    N = len(y)\n",
    "    lastrun = np.zeros(N)\n",
    "    run = np.zeros(N)\n",
    "    A = np.zeros(M)\n",
    "    B = np.zeros(M)\n",
    "    p = np.zeros(M)\n",
    "    e = np.zeros(M)\n",
    "\n",
    "    # get counting \n",
    "    for i in range(N-1): # go through each point in the time series, counting matches\n",
    "        y1 = y[i]\n",
    "        for jj in range(N-i-1):\n",
    "            # compare to future index, j\n",
    "            j = i + jj + 1\n",
    "            # this future point, j, matches the time series value at i\n",
    "            if np.abs(y[j]-y1) < r:\n",
    "                run[jj] = lastrun[jj] + 1 # increase run count for this lag\n",
    "                M1 = int(min(M, run[jj]))\n",
    "                for m in range(M1):\n",
    "                    A[m] += 1\n",
    "                    if j < N - 1:\n",
    "                        B[m] += 1\n",
    "            else:\n",
    "                run[jj] = 0\n",
    "        for j in range(N-i-1):\n",
    "            lastrun[j] = run[j]\n",
    "        \n",
    "    # Calculate for m = 1\n",
    "    NN = N*(N-1)/2\n",
    "    p[0] = A[0]/NN\n",
    "    e[0] = -np.log(p[0])\n",
    "\n",
    "    # calculate for m > 1, up to M\n",
    "    for m in range(1, M):\n",
    "        p[m] = A[m]/B[m-1]\n",
    "        e[m] = -np.log(p[m])\n",
    "\n",
    "    # Flag to output the entropy and probability just at the maximum requested m\n",
    "    if justM:\n",
    "        e = e[-1]\n",
    "        p = p[-1]\n",
    "    \n",
    "    return e, p, A, B\n"
   ]
  },
  {
   "cell_type": "code",
   "execution_count": 423,
   "metadata": {},
   "outputs": [],
   "source": [
    "e, p, A, B = PN_sampenc(ts3)"
   ]
  },
  {
   "cell_type": "code",
   "execution_count": 440,
   "metadata": {},
   "outputs": [],
   "source": [
    "import numpy as np\n",
    "from PeripheryFunctions.BF_PreProcess import BF_PreProcess\n",
    "\n",
    "def EN_SampEn(y, M = 2, r = None, preProcessHow = None):\n",
    "    \"\"\"\n",
    "   \n",
    "\n",
    "    Parameters:\n",
    "    -----------\n",
    "    y (array-like):\n",
    "        the input time series\n",
    "    M (int, optional): \n",
    "        the embedding dimension\n",
    "    r (float, optional): \n",
    "        the threshold\n",
    "    preProcessHow (str, optional):\n",
    "      (i) 'diff1', incremental differencing (as per 'Control Entropy').\n",
    "    \n",
    "    Returns:\n",
    "    --------\n",
    "    dict :\n",
    "        A dictionary of sample entropy and quadratic sample entropy\n",
    "    \"\"\"\n",
    "\n",
    "    if r is None:\n",
    "        r = 0.1 * np.std(y, ddof=1)\n",
    "    if preProcessHow is not None:\n",
    "        y = BF_PreProcess(y, preProcessHow)\n",
    "    \n",
    "    out = {}\n",
    "    sampEn, _, _, _ = PN_sampenc(y, M+1)\n",
    "    # compute outputs \n",
    "    for i in range(len(sampEn)):\n",
    "        out[f\"sampen{i}\"] = sampEn[i]\n",
    "        # Quadratic sample entropy (QSE), Lake (2006):\n",
    "        # (allows better comparison across r values)\n",
    "        out[f\"quadSampEn{i}\"] = sampEn[i] + np.log(2*r)\n",
    "    \n",
    "    if M > 1:\n",
    "        out['meanchsampen'] = np.mean(np.diff(sampEn))\n",
    "\n",
    "    return out\n"
   ]
  },
  {
   "cell_type": "code",
   "execution_count": 468,
   "metadata": {},
   "outputs": [],
   "source": [
    "import numpy as np\n",
    "\n",
    "def SY_DriftingMean(y, segmentHow = 'num', l = None):\n",
    "    \"\"\"\n",
    "    \"\"\"\n",
    "    N = len(y)\n",
    "    \n",
    "    if l is None:\n",
    "        if segmentHow == 'num':\n",
    "            l = 5 # 5 segments\n",
    "        elif segmentHow == 'fix':\n",
    "            l = 200 # 200 sample segments\n",
    "\n",
    "    if segmentHow == 'num':\n",
    "        l = int(np.floor(N/l))\n",
    "    elif segmentHow != 'fix':\n",
    "        raise ValueError(f\"Unknown input setting {segmentHow}\")\n",
    "    \n",
    "    # Check for short time series\n",
    "    if l == 0 or N < l: # doesn't make sense to split into more windows than there are data points\n",
    "        return np.NaN\n",
    "    \n",
    "    # get going\n",
    "    numFits = int(np.floor(N/l)) # number of times l fits completely into N\n",
    "    z = np.zeros((l, numFits))\n",
    "    for i in range(numFits):\n",
    "        z[:, i] = y[i*l : (i+1)*l]\n",
    "    zm = np.mean(z, axis=0)\n",
    "    zv = np.var(z, ddof=1, axis=0)\n",
    "    meanVar = np.mean(zv)\n",
    "    maxMean = np.max(zm)\n",
    "    minMean = np.min(zm)\n",
    "    meanMean = np.mean(zm)\n",
    "\n",
    "    # Output stats\n",
    "    out = {}\n",
    "    out['max'] = maxMean/meanVar\n",
    "    out['min'] = minMean/meanVar\n",
    "    out['mean'] = meanMean/meanVar\n",
    "    out['meanmaxmin'] = (out['max'] + out['min'])/2\n",
    "    out['meanabsmaxmin'] = (np.abs(out['max']) + np.abs(out['min']))/2\n",
    "\n",
    "    return out\n"
   ]
  },
  {
   "cell_type": "code",
   "execution_count": 475,
   "metadata": {},
   "outputs": [
    {
     "data": {
      "text/plain": [
       "{'max': 0.1812232844588266,\n",
       " 'min': -0.08081626740114163,\n",
       " 'mean': 0.03773606897898456,\n",
       " 'meanmaxmin': 0.050203508528842485,\n",
       " 'meanabsmaxmin': 0.13101977592998412}"
      ]
     },
     "execution_count": 475,
     "metadata": {},
     "output_type": "execute_result"
    }
   ],
   "source": [
    "SY_DriftingMean(ts3, 'num', 10)"
   ]
  },
  {
   "cell_type": "code",
   "execution_count": 484,
   "metadata": {},
   "outputs": [],
   "source": [
    "from Operations.DN_HistogramAsymmetry import DN_HistogramAsymmetry\n",
    "from scipy.signal import detrend"
   ]
  },
  {
   "cell_type": "code",
   "execution_count": 497,
   "metadata": {},
   "outputs": [],
   "source": [
    "def SY_Trend(y):\n",
    "    \"\"\"\n",
    "    \"\"\"\n",
    "    if not BF_iszscored(y):\n",
    "        warnings.warn('The input time series should be z-scored')\n",
    "    \n",
    "    N = len(y)\n",
    "\n",
    "    # ratio of std before and after linear detrending\n",
    "    out = {}\n",
    "    dt_y = detrend(y)\n",
    "    out['stdRatio'] = np.std(dt_y, ddof=1) / np.std(y, ddof=1)\n",
    "    \n",
    "    # do a linear fit\n",
    "    # need to use the same xrange as MATLAB with 1 indexing for correct result\n",
    "    coeffs = np.polyfit(range(1, N+1), y, 1)\n",
    "    out['gradient'] = coeffs[0]\n",
    "    out['intercept'] = coeffs[1]\n",
    "\n",
    "    # Stats on the cumulative sum\n",
    "    yC = np.cumsum(y)\n",
    "    out['meanYC'] = np.mean(yC)\n",
    "    out['stdYC'] = np.std(yC, ddof=1)\n",
    "    coeffs_yC = np.polyfit(range(1, N+1), yC, 1)\n",
    "    out['gradientYC'] = coeffs_yC[0]\n",
    "    out['interceptYC'] = coeffs_yC[1]\n",
    "\n",
    "    # Mean cumsum in first and second half of the time series\n",
    "    out['meanYC12'] = np.mean(yC[:int(np.floor(N/2))])\n",
    "    out['meanYC22'] = np.mean(yC[int(np.floor(N/2)):])\n",
    "\n",
    "    return out"
   ]
  },
  {
   "cell_type": "code",
   "execution_count": 500,
   "metadata": {},
   "outputs": [
    {
     "data": {
      "text/plain": [
       "{'stdRatio': 0.9999379627593226,\n",
       " 'gradient': -3.877747378885397e-05,\n",
       " 'intercept': 0.0576837447413214,\n",
       " 'meanYC': 22.388400282169982,\n",
       " 'stdYC': 10.415701432666614,\n",
       " 'gradientYC': 0.02681196715359477,\n",
       " 'interceptYC': 8.969010721795804,\n",
       " 'meanYC12': 15.942034066939996,\n",
       " 'meanYC22': 28.83476649739997}"
      ]
     },
     "execution_count": 500,
     "metadata": {},
     "output_type": "execute_result"
    }
   ],
   "source": [
    "SY_Trend(ts3)"
   ]
  },
  {
   "cell_type": "code",
   "execution_count": 494,
   "metadata": {},
   "outputs": [
    {
     "data": {
      "text/plain": [
       "0.025823918703303333"
      ]
     },
     "execution_count": 494,
     "metadata": {},
     "output_type": "execute_result"
    }
   ],
   "source": [
    "coeffs = np.polyfit(range(1, len(ts1)+1), ts1, 1)\n",
    "coeffs[1]"
   ]
  },
  {
   "cell_type": "code",
   "execution_count": 506,
   "metadata": {},
   "outputs": [],
   "source": [
    "ts5 = np.random.randn(2)"
   ]
  },
  {
   "cell_type": "code",
   "execution_count": 508,
   "metadata": {},
   "outputs": [],
   "source": [
    "out = np.diff(ts5, 2)"
   ]
  },
  {
   "cell_type": "code",
   "execution_count": 509,
   "metadata": {},
   "outputs": [
    {
     "data": {
      "text/plain": [
       "0"
      ]
     },
     "execution_count": 509,
     "metadata": {},
     "output_type": "execute_result"
    }
   ],
   "source": [
    "len(out)"
   ]
  },
  {
   "cell_type": "code",
   "execution_count": 10,
   "metadata": {},
   "outputs": [],
   "source": [
    "from Operations.SY_StdNthDer import SY_StdNthDer"
   ]
  },
  {
   "cell_type": "code",
   "execution_count": 516,
   "metadata": {},
   "outputs": [],
   "source": [
    "ms = np.array([SY_StdNthDer(ts1, i) for i in range(1, 11)])"
   ]
  },
  {
   "cell_type": "code",
   "execution_count": 22,
   "metadata": {},
   "outputs": [],
   "source": [
    "from scipy.optimize import curve_fit"
   ]
  },
  {
   "cell_type": "code",
   "execution_count": 87,
   "metadata": {},
   "outputs": [],
   "source": [
    "from Operations.SY_StatAv import SY_StatAv as stav"
   ]
  },
  {
   "cell_type": "code",
   "execution_count": 91,
   "metadata": {},
   "outputs": [],
   "source": [
    "import numpy as np\n",
    "\n",
    "def SY_StatAv3(y, what_type='seg', n=5):\n",
    "    \"\"\"\n",
    "    Simple mean-stationarity metric, StatAv.\n",
    "\n",
    "    The StatAv measure divides the time series into non-overlapping subsegments,\n",
    "    calculates the mean in each of these segments and returns the standard deviation\n",
    "    of this set of means.\n",
    "\n",
    "    Empirically mean-stationary data would display StatAv approaching to zero.\n",
    "\n",
    "    Args:\n",
    "    y (array-like): The input time series\n",
    "    what_type (str): The type of StatAv to perform:\n",
    "        'seg': divide the time series into n segments\n",
    "        'len': divide the time series into segments of length n\n",
    "    n (int): Either the number of subsegments ('seg') or their length ('len')\n",
    "\n",
    "    Returns:\n",
    "    out: float \n",
    "        The StatAv statistic\n",
    "    \"\"\"\n",
    "    N = len(y)\n",
    "\n",
    "    if what_type == 'seg':\n",
    "        # divide time series into n segments\n",
    "        p = N // n  # integer division, lose the last N mod n data points\n",
    "        M = np.array([np.mean(y[p*j:p*(j+1)]) for j in range(n)])\n",
    "    elif what_type == 'len':\n",
    "        if N > 2*n:\n",
    "            pn = N // n\n",
    "            M = np.array([np.mean(y[j*n:(j+1)*n]) for j in range(pn)])\n",
    "        else:\n",
    "            print(f\"This time series (N = {N}) is too short for StatAv({what_type},'{n}')\")\n",
    "            return np.nan\n",
    "    else:\n",
    "        raise ValueError(f\"Error evaluating StatAv of type '{what_type}', please select either 'seg' or 'len'\")\n",
    "\n",
    "    s = np.std(y)  # should be 1 (for a z-scored time-series input)\n",
    "    sdav = np.std(M)\n",
    "    return sdav / s\n"
   ]
  },
  {
   "cell_type": "code",
   "execution_count": 94,
   "metadata": {},
   "outputs": [
    {
     "data": {
      "text/plain": [
       "0.18558394763043523"
      ]
     },
     "execution_count": 94,
     "metadata": {},
     "output_type": "execute_result"
    }
   ],
   "source": [
    "SY_StatAv3(ts3, 'seg', 30)"
   ]
  },
  {
   "cell_type": "code",
   "execution_count": 98,
   "metadata": {},
   "outputs": [],
   "source": [
    "rng = np.random.RandomState(0)"
   ]
  },
  {
   "cell_type": "code",
   "execution_count": 100,
   "metadata": {},
   "outputs": [
    {
     "data": {
      "text/plain": [
       "172"
      ]
     },
     "execution_count": 100,
     "metadata": {},
     "output_type": "execute_result"
    }
   ],
   "source": [
    "rng.randint(400)"
   ]
  },
  {
   "cell_type": "code",
   "execution_count": 13,
   "metadata": {},
   "outputs": [],
   "source": [
    "import numpy as np\n",
    "from Operations.CO_FirstCrossing import CO_FirstCrossing\n",
    "from Operations.EN_SampEn import EN_SampEn\n",
    "from Operations.CO_AutoCorr import CO_AutoCorr\n",
    "import warnings\n",
    "from scipy import stats\n",
    "\n",
    "def SY_SpreadRandomLocal(y, l = 100, numSegs = 100, randomSeed = None):\n",
    "    \"\"\"\n",
    "    \"\"\"\n",
    "    if isinstance(l, str):\n",
    "        taug = CO_FirstCrossing(y, 'ac', 0, 'discrete')\n",
    "        if l == 'ac2':\n",
    "            l = 2 * taug\n",
    "        elif l == 'ac5':\n",
    "            l = 5 * taug\n",
    "        else:\n",
    "            raise ValueError(f\"Unknown specifier '{l}'\")\n",
    "        \n",
    "        # Very short l for this sort of time series:\n",
    "        if l < 5:\n",
    "            print(f\"Warning: This time series has a very short correlation length; \"\n",
    "                  f\"Setting l={l} means that changes estimates will be difficult to compare...\")\n",
    "\n",
    "    N = len(y)\n",
    "    if l > 0.9 * N: # operation is not suitable -- time series is too short\n",
    "        warnings.warn(f\"This time series (N = {N}) is too short to use l = {l}\")\n",
    "        return np.NaN\n",
    "    \n",
    "    # numSegs segments, each of length segl data points\n",
    "    numFeat = 8\n",
    "    qs = np.zeros((numSegs, numFeat))\n",
    "    # set the random seed for reproducibility\n",
    "    np.random.seed(randomSeed)\n",
    "\n",
    "    for j in range(numSegs):\n",
    "        ist = np.random.randint(N - l)\n",
    "        ifh = ist + l\n",
    "        ySub = y[ist:ifh]\n",
    "\n",
    "        qs[j, 0] = np.mean(ySub)\n",
    "        qs[j, 1] = np.std(ySub, ddof=1)\n",
    "        qs[j, 2] = stats.skew(ySub)\n",
    "        qs[j, 3] = stats.kurtosis(ySub)\n",
    "        entropyOut = EN_SampEn(ySub, 1, 0.15)\n",
    "        qs[j, 4] = entropyOut['quadSampEn1']\n",
    "        qs[j, 5] = CO_AutoCorr(ySub, 1, 'Fourier')[0]\n",
    "        qs[j, 6] = CO_AutoCorr(ySub, 2, 'Fourier')[0]\n",
    "        qs[j, 7] = CO_FirstCrossing(ySub, 'ac', 0, 'continuous') # first zero crossing\n",
    "    \n",
    "    fs = np.zeros((numFeat, 2))\n",
    "    fs[:, 0] = np.nanmean(qs, axis=0)\n",
    "    fs[:, 1] = np.nanstd(qs, axis=0, ddof=1)\n",
    "\n",
    "    out = {\n",
    "        'meanmean': fs[0, 0], 'meanstd': fs[1, 0], 'meanskew': fs[2, 0], 'meankurt': fs[3, 0],\n",
    "        'meansampen1_015': fs[4, 0], 'meanac1': fs[5, 0], 'meanac2': fs[6, 0], 'meantaul': fs[7, 0],\n",
    "        'stdmean': fs[0, 1], 'stdstd': fs[1, 1], 'stdskew': fs[2, 1], 'stdkurt': fs[3, 1],\n",
    "        'stdsampen1_015': fs[4, 1], 'stdac1': fs[5, 1], 'stdac2': fs[6, 1], 'stdtaul': fs[7, 1]\n",
    "    }\n",
    "\n",
    "    return out\n"
   ]
  },
  {
   "cell_type": "code",
   "execution_count": 5,
   "metadata": {},
   "outputs": [],
   "source": [
    "from Operations.SY_SpreadRandomLocal import SY_SpreadRandomLocal as srl"
   ]
  },
  {
   "cell_type": "code",
   "execution_count": 9,
   "metadata": {},
   "outputs": [],
   "source": [
    "\n",
    "cums = [range(0, i) for i in range(N)]"
   ]
  },
  {
   "cell_type": "code",
   "execution_count": 15,
   "metadata": {},
   "outputs": [],
   "source": [
    "cums = np.zeros(len(ts1))\n",
    "for i in range(len(ts1)):\n",
    "    cums[i] = np.ptp(ts1[:i+1])  # np.ptp calculates the range (peak to peak)\n"
   ]
  },
  {
   "cell_type": "code",
   "execution_count": 35,
   "metadata": {},
   "outputs": [],
   "source": [
    "import numpy as np\n",
    "\n",
    "def SY_RangeEvolve(y):\n",
    "    \"\"\"\n",
    "    \"\"\"\n",
    "    N = len(y)\n",
    "    out = {} # initialise storage\n",
    "    cums = np.zeros(N)\n",
    "    for i in range(N):\n",
    "        cums[i] = np.ptp(y[:i+1])  # np.ptp calculates the range (peak to peak)\n",
    "    \n",
    "    fullr = np.ptp(y)\n",
    "\n",
    "    # return number of unqiue entries in a vector, x\n",
    "    lunique = lambda x : len(np.unique(x))\n",
    "    out['totnuq'] = lunique(cums)\n",
    "\n",
    "    # how many of the unique extrema are in the first <proportions> of time series? \n",
    "    cumtox = lambda x : lunique(cums[:int(np.floor(N*x))])/out['totnuq']\n",
    "    out['nuqp1'] = cumtox(0.01)\n",
    "    out['nuqp10'] = cumtox(0.1)\n",
    "    out['nuqp20'] = cumtox(0.2)\n",
    "    out['nuqp50'] = cumtox(0.5)\n",
    "\n",
    "    # how many unique extrema are in the first <length> of time series? \n",
    "    Ns = [10, 50, 100, 1000]\n",
    "    for Nval in Ns:\n",
    "        if N >= Nval:\n",
    "            out[f'nuql{Nval}'] = lunique(cums[:Nval])/out['totnuq']\n",
    "        else:\n",
    "            out[f'nuql{N}'] = np.NaN\n",
    "    \n",
    "    # (**2**) Actual proportion of full range captured at different points\n",
    "    out['p1'] = cums[int(np.ceil(N*0.01))]/fullr\n",
    "    out['p10'] = cums[int(np.ceil(N*0.1))]/fullr\n",
    "    out['p20'] = cums[int(np.ceil(N*0.2))]/fullr\n",
    "    out['p50'] = cums[int(np.ceil(N*0.5))]/fullr\n",
    "\n",
    "    for Nval in Ns:\n",
    "        if N >= Nval:\n",
    "            out[f'l{Nval}'] = cums[Nval-1]/fullr\n",
    "        else:\n",
    "            out[f'l{Nval}'] = np.NaN\n",
    "    \n",
    "    \n",
    "    return out"
   ]
  },
  {
   "cell_type": "code",
   "execution_count": 40,
   "metadata": {},
   "outputs": [],
   "source": [
    "from Operations.SY_RangeEvolve import SY_RangeEvolve as re"
   ]
  },
  {
   "cell_type": "code",
   "execution_count": 75,
   "metadata": {},
   "outputs": [],
   "source": [
    "import numpy as np\n",
    "from PeripheryFunctions.BF_iszscored import BF_iszscored\n",
    "from Operations.CO_AutoCorr import CO_AutoCorr\n",
    "from PeripheryFunctions.PN_sampenc import PN_sampenc\n",
    "from warnings import warn\n",
    "from scipy.stats import iqr, skew, kurtosis\n",
    "\n",
    "def SY_LocalGlobal(y, subsetHow = 'l', n = None, randomSeed = 0):\n",
    "    \"\"\"\n",
    "    \"\"\"\n",
    "\n",
    "    # check input time series is z-scored\n",
    "    if not BF_iszscored(y):\n",
    "        warn(f\"The input time series should be z-scored\")\n",
    "    \n",
    "    if n is None:\n",
    "        if subsetHow in ['l', 'unicg', 'randcg']:\n",
    "            n = 100 # 100 samples\n",
    "        elif subsetHow == 'p':\n",
    "            n = 0.1 # 10 % of time series\n",
    "    \n",
    "    N = len(y)\n",
    "\n",
    "    # Determine subset range to use: r\n",
    "    if subsetHow == 'l':\n",
    "        # take first n pts of time series\n",
    "        r = np.arange(min(n, N))\n",
    "    elif subsetHow == 'p':\n",
    "        # take initial proportion n of time series\n",
    "        r = np.arange(int(np.ceil(N*n)))\n",
    "    elif subsetHow == 'unicg':\n",
    "        r = int(np.ceil(np.linspace(0, N-1, n)))\n",
    "    elif subsetHow == 'randcg':\n",
    "        np.random.seed(randomSeed) # set seed for reproducibility\n",
    "        # Take n random points in time series; there could be repeats\n",
    "        r = np.random.randint(0, N, n)\n",
    "    else:\n",
    "        raise ValueError(f\"Unknown specifier, {subsetHow}\")\n",
    "\n",
    "    if len(r) < 5:\n",
    "        # It's not really appropriate to compute statistics on less than 5 datapoints\n",
    "        warn(f\"Time series (of length {N}) is too short\")\n",
    "        return np.NaN\n",
    "    \n",
    "    # Compare statistics of this subset to those obtained from the full time series\n",
    "    out = {}\n",
    "    out['absmean'] = np.abs(np.mean(y[r])) # Makes sense without normalization if y is z-scored\n",
    "    out['std'] = np.std(y[r], ddof=1) # Makes sense without normalization if y is z-scored\n",
    "    out['median'] = np.median(y[r]) # if median is very small then normalization could be very noisy\n",
    "    raw_iqr_yr = np.percentile(y[r], 75, method='hazen') - np.percentile(y[r], 25, method='hazen')\n",
    "    raw_iqr_y = np.percentile(y, 75, method='hazen') - np.percentile(y, 25, method='hazen')\n",
    "    out['iqr'] = np.abs(1 - (raw_iqr_yr/raw_iqr_y))\n",
    "    out['skewness'] = np.abs(1 - (skew(y[r])/skew(y)))\n",
    "    # use Pearson definition (normal ==> 3.0)\n",
    "    out['kurtosis'] = np.abs(1 - (kurtosis(y[r], fisher=False)/kurtosis(y, fisher=False)))\n",
    "    out['ac1'] = np.abs(1 - (CO_AutoCorr(y[r], 1, 'Fourier')[0]/CO_AutoCorr(y, 1, 'Fourier')[0]))\n",
    "    out['sampen101'] = PN_sampenc(y[r], 1, 0.1, True)[0]/PN_sampenc(y, 1, 0.1, True)[0]\n",
    "\n",
    "\n",
    "    return out\n"
   ]
  },
  {
   "cell_type": "code",
   "execution_count": 77,
   "metadata": {},
   "outputs": [],
   "source": [
    "from Operations.SY_LocalGlobal import SY_LocalGlobal as sylg"
   ]
  },
  {
   "cell_type": "code",
   "execution_count": 4,
   "metadata": {},
   "outputs": [],
   "source": [
    "from Operations.SY_LocalGlobal import SY_LocalGlobal10 as sylg10"
   ]
  },
  {
   "cell_type": "code",
   "execution_count": 132,
   "metadata": {},
   "outputs": [],
   "source": [
    "import numpy as np\n",
    "from PeripheryFunctions.BF_iszscored import BF_iszscored\n",
    "from Operations.CO_AutoCorr import CO_AutoCorr\n",
    "from PeripheryFunctions.PN_sampenc import PN_sampenc\n",
    "from warnings import warn\n",
    "from scipy.stats import iqr, skew, kurtosis\n",
    "\n",
    "def SY_LocalGlobal10(y, subsetHow = 'l', n = None, randomSeed = 0):\n",
    "    \"\"\"\n",
    "    Compare local statistics to global statistics of a time series.\n",
    "\n",
    "    Parameters:\n",
    "    -----------\n",
    "    y : array_like\n",
    "        The time series to analyze.\n",
    "    subsetHow : str, optional\n",
    "        The method to select the local subset of time series:\n",
    "        'l': the first n points in a time series\n",
    "        'p': an initial proportion of the full time series\n",
    "        'unicg': n evenly-spaced points throughout the time series\n",
    "        'randcg': n randomly-chosen points from the time series (chosen with replacement)\n",
    "    n : int or float, optional\n",
    "        The parameter for the method specified by subset_how.\n",
    "    random_seed : int, optional\n",
    "        Seed for random number generator (for 'randcg' option).\n",
    "\n",
    "    Returns:\n",
    "    --------\n",
    "    dict\n",
    "        A dictionary containing various statistical measures comparing\n",
    "        the subset to the full time series.\n",
    "    \"\"\"\n",
    "    # check input time series is z-scored\n",
    "    if not BF_iszscored(y):\n",
    "        warn(f\"The input time series should be z-scored\")\n",
    "    \n",
    "    if n is None:\n",
    "        if subsetHow in ['l', 'unicg', 'randcg']:\n",
    "            n = 100 # 100 samples\n",
    "        elif subsetHow == 'p':\n",
    "            n = 0.1 # 10 % of time series\n",
    "    \n",
    "    N = len(y)\n",
    "\n",
    "    # Determine subset range to use: r\n",
    "    if subsetHow == 'l':\n",
    "        # take first n pts of time series\n",
    "        r = np.arange(min(n, N))\n",
    "    elif subsetHow == 'p':\n",
    "        # take initial proportion n of time series\n",
    "        r = np.arange(int(np.ceil(N*n)))\n",
    "    elif subsetHow == 'unicg':\n",
    "        r = np.round(np.linspace(1, N, n)).astype(int) - 1\n",
    "    elif subsetHow == 'randcg':\n",
    "        np.random.seed(randomSeed) # set seed for reproducibility\n",
    "        # Take n random points in time series; there could be repeats\n",
    "        r = np.random.randint(0, N, n)\n",
    "    else:\n",
    "        raise ValueError(f\"Unknown specifier, {subsetHow}\")\n",
    "\n",
    "    if len(r) < 5:\n",
    "        # It's not really appropriate to compute statistics on less than 5 datapoints\n",
    "        warn(f\"Time series (of length {N}) is too short\")\n",
    "        return np.NaN\n",
    "    \n",
    "    # Compare statistics of this subset to those obtained from the full time series\n",
    "    out = {}\n",
    "    out['absmean'] = np.abs(np.mean(y[r])) # Makes sense without normalization if y is z-scored\n",
    "    out['std'] = np.std(y[r], ddof=1) # Makes sense without normalization if y is z-scored\n",
    "    out['median'] = np.median(y[r]) # if median is very small then normalization could be very noisy\n",
    "    raw_iqr_yr = np.percentile(y[r], 75, method='hazen') - np.percentile(y[r], 25, method='hazen')\n",
    "    raw_iqr_y = np.percentile(y, 75, method='hazen') - np.percentile(y, 25, method='hazen')\n",
    "    out['iqr'] = np.abs(1 - (raw_iqr_yr/raw_iqr_y))\n",
    "    out['skewness'] = np.abs(1 - (skew(y[r])/skew(y)))\n",
    "    # use Pearson definition (normal ==> 3.0)\n",
    "    out['kurtosis'] = np.abs(1 - (kurtosis(y[r], fisher=False)/kurtosis(y, fisher=False)))\n",
    "    out['ac1'] = np.abs(1 - (CO_AutoCorr(y[r], 1, 'Fourier')[0]/CO_AutoCorr(y, 1, 'Fourier')[0]))\n",
    "    out['sampen101'] = PN_sampenc(y[r], 1, 0.1, True)[0]/PN_sampenc(y, 1, 0.1, True)[0]\n",
    "\n",
    "\n",
    "    return out\n"
   ]
  },
  {
   "cell_type": "code",
   "execution_count": 3,
   "metadata": {},
   "outputs": [],
   "source": [
    "from Operations.SY_KPSStest import SY_KPSStest"
   ]
  },
  {
   "cell_type": "code",
   "execution_count": 15,
   "metadata": {},
   "outputs": [],
   "source": [
    "from Operations.ST_FitPolynomial import ST_FitPolynomial"
   ]
  },
  {
   "cell_type": "code",
   "execution_count": 19,
   "metadata": {},
   "outputs": [
    {
     "data": {
      "text/plain": [
       "1.003963787571347"
      ]
     },
     "execution_count": 19,
     "metadata": {},
     "output_type": "execute_result"
    }
   ],
   "source": [
    "ST_FitPolynomial(ts3, 3)"
   ]
  },
  {
   "cell_type": "code",
   "execution_count": null,
   "metadata": {},
   "outputs": [],
   "source": []
  }
 ],
 "metadata": {
  "kernelspec": {
   "display_name": "Python 3",
   "language": "python",
   "name": "python3"
  },
  "language_info": {
   "codemirror_mode": {
    "name": "ipython",
    "version": 3
   },
   "file_extension": ".py",
   "mimetype": "text/x-python",
   "name": "python",
   "nbconvert_exporter": "python",
   "pygments_lexer": "ipython3",
   "version": "3.11.9"
  }
 },
 "nbformat": 4,
 "nbformat_minor": 2
}
